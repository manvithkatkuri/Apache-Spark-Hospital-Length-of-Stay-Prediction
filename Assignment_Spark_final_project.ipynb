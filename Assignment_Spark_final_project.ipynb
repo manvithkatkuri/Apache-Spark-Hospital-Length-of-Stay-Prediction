{
 "cells": [
  {
   "cell_type": "markdown",
   "metadata": {
    "application/vnd.databricks.v1+cell": {
     "cellMetadata": {},
     "inputWidgets": {},
     "nuid": "4db511ac-0525-42fe-a01e-fb3ba5cfde0a",
     "showTitle": false,
     "tableResultSettingsMap": {},
     "title": ""
    }
   },
   "source": [
    "# Hospital Length of Stay Prediction Analysis"
   ]
  },
  {
   "cell_type": "markdown",
   "metadata": {
    "application/vnd.databricks.v1+cell": {
     "cellMetadata": {
      "byteLimit": 2048000,
      "rowLimit": 10000
     },
     "inputWidgets": {},
     "nuid": "38ddccf2-0a7d-476e-bfca-348a607e6b4d",
     "showTitle": false,
     "tableResultSettingsMap": {},
     "title": ""
    }
   },
   "source": [
    "# 1. Data Preparation and Preprocessing"
   ]
  },
  {
   "cell_type": "code",
   "execution_count": 0,
   "metadata": {
    "application/vnd.databricks.v1+cell": {
     "cellMetadata": {
      "byteLimit": 2048000,
      "rowLimit": 10000
     },
     "inputWidgets": {},
     "nuid": "c036fca0-8163-484c-b3a4-9ac40b43c131",
     "showTitle": false,
     "tableResultSettingsMap": {},
     "title": ""
    }
   },
   "outputs": [],
   "source": [
    "# Load the tables directly from the default database\n",
    "core_data = spark.table(\"default.kid_2016_core_exracted_3_csv\")\n",
    "hospital_data = spark.table(\"default.kids_2016_hospital_extracted_3_csv\")\n",
    "severity_data = spark.table(\"default.kid_2016_severity_extracted_2_csv\")\n"
   ]
  },
  {
   "cell_type": "markdown",
   "metadata": {
    "application/vnd.databricks.v1+cell": {
     "cellMetadata": {
      "byteLimit": 2048000,
      "rowLimit": 10000
     },
     "inputWidgets": {},
     "nuid": "7cbd7d1d-9e7c-4c3d-a995-f9d58688b15d",
     "showTitle": false,
     "tableResultSettingsMap": {},
     "title": ""
    }
   },
   "source": [
    "**Merging these datasets**"
   ]
  },
  {
   "cell_type": "code",
   "execution_count": 0,
   "metadata": {
    "application/vnd.databricks.v1+cell": {
     "cellMetadata": {
      "byteLimit": 2048000,
      "rowLimit": 10000
     },
     "inputWidgets": {},
     "nuid": "2a1b6b56-43c6-4209-b7f0-45fb990be908",
     "showTitle": false,
     "tableResultSettingsMap": {},
     "title": ""
    }
   },
   "outputs": [],
   "source": [
    "hospital_data = hospital_data.drop(\"HOSP_REGION\", \"YEAR\",\"KID_STRATUM\")\n",
    "severity_data=severity_data.drop(\"HOSP_KID\")\n",
    "merged_data = (\n",
    "    core_data\n",
    "    .join(severity_data, on=\"RECNUM\", how=\"inner\")  \n",
    "    .join(hospital_data, on=\"HOSP_KID\", how=\"inner\")  \n",
    ")"
   ]
  },
  {
   "cell_type": "markdown",
   "metadata": {
    "application/vnd.databricks.v1+cell": {
     "cellMetadata": {
      "byteLimit": 2048000,
      "rowLimit": 10000
     },
     "inputWidgets": {},
     "nuid": "e97b0959-9bf1-4e12-be76-d12be73e1cc4",
     "showTitle": false,
     "tableResultSettingsMap": {},
     "title": ""
    }
   },
   "source": [
    "## Data Cleaning"
   ]
  },
  {
   "cell_type": "markdown",
   "metadata": {
    "application/vnd.databricks.v1+cell": {
     "cellMetadata": {
      "byteLimit": 2048000,
      "rowLimit": 10000
     },
     "inputWidgets": {},
     "nuid": "bcee88ad-747a-45f7-b765-1f6e0611f155",
     "showTitle": false,
     "tableResultSettingsMap": {},
     "title": ""
    }
   },
   "source": [
    "**Changing datatype and removing unsignificant variables**"
   ]
  },
  {
   "cell_type": "code",
   "execution_count": 0,
   "metadata": {
    "application/vnd.databricks.v1+cell": {
     "cellMetadata": {
      "byteLimit": 2048000,
      "rowLimit": 10000
     },
     "inputWidgets": {},
     "nuid": "86ba05af-87f2-441b-882d-e81ac5d67b10",
     "showTitle": false,
     "tableResultSettingsMap": {},
     "title": ""
    }
   },
   "outputs": [
    {
     "output_type": "execute_result",
     "data": {
      "text/plain": [
       "[('HOSP_KID', 'int'),\n",
       " ('RECNUM', 'int'),\n",
       " ('AGE', 'int'),\n",
       " ('AGE_NEONATE', 'int'),\n",
       " ('AMONTH', 'int'),\n",
       " ('AWEEKEND', 'int'),\n",
       " ('DIED', 'int'),\n",
       " ('DISCWT', 'int'),\n",
       " ('DISPUNIFORM', 'int'),\n",
       " ('DQTR', 'int'),\n",
       " ('DRG', 'int'),\n",
       " ('DRGVER', 'int'),\n",
       " ('DRG_NoPOA', 'int'),\n",
       " ('DXVER', 'int'),\n",
       " ('ELECTIVE', 'int'),\n",
       " ('FEMALE', 'int'),\n",
       " ('HCUP_ED', 'int'),\n",
       " ('HOSP_REGION', 'int'),\n",
       " ('I10_DX1', 'string'),\n",
       " ('I10_DX2', 'string'),\n",
       " ('I10_DX3', 'string'),\n",
       " ('I10_DX4', 'string'),\n",
       " ('I10_DX5', 'string'),\n",
       " ('I10_DX6', 'string'),\n",
       " ('I10_DX7', 'string'),\n",
       " ('I10_DX8', 'string'),\n",
       " ('I10_DX9', 'string'),\n",
       " ('I10_DX10', 'string'),\n",
       " ('I10_DX11', 'string'),\n",
       " ('I10_DX12', 'string'),\n",
       " ('I10_DX13', 'string'),\n",
       " ('I10_DX14', 'string'),\n",
       " ('I10_DX15', 'string'),\n",
       " ('I10_DX16', 'string'),\n",
       " ('I10_DX17', 'string'),\n",
       " ('I10_DX18', 'string'),\n",
       " ('I10_DX19', 'string'),\n",
       " ('I10_DX20', 'string'),\n",
       " ('I10_DX21', 'string'),\n",
       " ('I10_DX22', 'string'),\n",
       " ('I10_DX23', 'string'),\n",
       " ('I10_DX24', 'string'),\n",
       " ('I10_DX25', 'string'),\n",
       " ('I10_DX26', 'string'),\n",
       " ('I10_DX27', 'string'),\n",
       " ('I10_DX28', 'string'),\n",
       " ('I10_DX29', 'string'),\n",
       " ('I10_DX30', 'string'),\n",
       " ('I10_ECAUSE1', 'string'),\n",
       " ('I10_ECAUSE2', 'string'),\n",
       " ('I10_ECAUSE3', 'string'),\n",
       " ('I10_ECAUSE4', 'string'),\n",
       " ('I10_HOSPBRTH', 'int'),\n",
       " ('I10_NDX', 'int'),\n",
       " ('I10_NECAUSE', 'int'),\n",
       " ('I10_NPR', 'int'),\n",
       " ('I10_PR1', 'string'),\n",
       " ('I10_PR2', 'string'),\n",
       " ('I10_PR3', 'string'),\n",
       " ('I10_PR4', 'string'),\n",
       " ('I10_PR5', 'string'),\n",
       " ('I10_PR6', 'string'),\n",
       " ('I10_PR7', 'string'),\n",
       " ('I10_PR8', 'string'),\n",
       " ('I10_PR9', 'string'),\n",
       " ('I10_PR10', 'string'),\n",
       " ('I10_PR11', 'string'),\n",
       " ('I10_PR12', 'string'),\n",
       " ('I10_PR13', 'string'),\n",
       " ('I10_PR14', 'string'),\n",
       " ('I10_PR15', 'string'),\n",
       " ('I10_UNCBRTH', 'string'),\n",
       " ('KID_STRATUM', 'string'),\n",
       " ('LOS', 'string'),\n",
       " ('MDC', 'string'),\n",
       " ('MDC_NoPOA', 'string'),\n",
       " ('PAY1', 'string'),\n",
       " ('PL_NCHS', 'string'),\n",
       " ('PRDAY1', 'string'),\n",
       " ('PRDAY2', 'string'),\n",
       " ('PRDAY3', 'string'),\n",
       " ('PRDAY4', 'string'),\n",
       " ('PRDAY5', 'string'),\n",
       " ('PRDAY6', 'string'),\n",
       " ('PRDAY7', 'string'),\n",
       " ('PRDAY8', 'string'),\n",
       " ('PRDAY9', 'string'),\n",
       " ('PRDAY10', 'string'),\n",
       " ('PRDAY11', 'string'),\n",
       " ('PRDAY12', 'string'),\n",
       " ('PRDAY13', 'string'),\n",
       " ('PRDAY14', 'string'),\n",
       " ('PRDAY15', 'string'),\n",
       " ('PRVER', 'int'),\n",
       " ('RACE', 'int'),\n",
       " ('TOTCHG', 'int'),\n",
       " ('TRAN_IN', 'int'),\n",
       " ('TRAN_OUT', 'int'),\n",
       " ('YEAR', 'int'),\n",
       " ('ZIPINC_QRTL', 'int'),\n",
       " ('APRDRG', 'int'),\n",
       " ('APRDRG_Risk_Mortality', 'int'),\n",
       " ('APRDRG_Severity', 'int'),\n",
       " ('HOSP_BEDSIZE', 'int'),\n",
       " ('HOSP_LOCTEACH', 'int'),\n",
       " ('H_CONTRL', 'int'),\n",
       " ('N_BRTH_U', 'int'),\n",
       " ('N_DISC_U', 'int'),\n",
       " ('N_HOSP_U', 'int'),\n",
       " ('S_BRTH_U', 'int'),\n",
       " ('S_CHLD_U', 'int'),\n",
       " ('S_CMPB_U', 'int'),\n",
       " ('S_DISC_U', 'int'),\n",
       " ('S_HOSP_U', 'int'),\n",
       " ('S_UNCB_U', 'int')]"
      ]
     },
     "execution_count": 49,
     "metadata": {},
     "output_type": "execute_result"
    }
   ],
   "source": [
    "[(col, dtype) for col, dtype in merged_data.dtypes]"
   ]
  },
  {
   "cell_type": "code",
   "execution_count": 0,
   "metadata": {
    "application/vnd.databricks.v1+cell": {
     "cellMetadata": {
      "byteLimit": 2048000,
      "rowLimit": 10000
     },
     "inputWidgets": {},
     "nuid": "a9ed8378-dbc0-4074-8249-a7fc97c8ea3b",
     "showTitle": false,
     "tableResultSettingsMap": {},
     "title": ""
    }
   },
   "outputs": [
    {
     "output_type": "stream",
     "name": "stdout",
     "output_type": "stream",
     "text": [
      "+--------+--------+---+-----------+------+--------+----+------+-----------+----+---+------+---------+-----+--------+------+-------+-----------+-------+-------+-------+-------+-------+-------+-------+-------+-------+--------+--------+--------+--------+--------+--------+--------+--------+--------+--------+--------+--------+--------+--------+--------+--------+--------+--------+--------+--------+--------+-----------+-----------+-----------+-----------+------------+-------+-----------+-------+-------+-------+-------+-------+-------+-------+-------+-------+-------+--------+--------+--------+--------+--------+--------+-----------+-----------+---+---+---------+----+-------+------+------+------+------+------+------+------+------+------+-------+-------+-------+-------+-------+-------+-----+----+------+-------+--------+----+-----------+------+---------------------+---------------+------------+-------------+--------+--------+--------+--------+--------+--------+--------+--------+--------+--------+\n|HOSP_KID|  RECNUM|AGE|AGE_NEONATE|AMONTH|AWEEKEND|DIED|DISCWT|DISPUNIFORM|DQTR|DRG|DRGVER|DRG_NoPOA|DXVER|ELECTIVE|FEMALE|HCUP_ED|HOSP_REGION|I10_DX1|I10_DX2|I10_DX3|I10_DX4|I10_DX5|I10_DX6|I10_DX7|I10_DX8|I10_DX9|I10_DX10|I10_DX11|I10_DX12|I10_DX13|I10_DX14|I10_DX15|I10_DX16|I10_DX17|I10_DX18|I10_DX19|I10_DX20|I10_DX21|I10_DX22|I10_DX23|I10_DX24|I10_DX25|I10_DX26|I10_DX27|I10_DX28|I10_DX29|I10_DX30|I10_ECAUSE1|I10_ECAUSE2|I10_ECAUSE3|I10_ECAUSE4|I10_HOSPBRTH|I10_NDX|I10_NECAUSE|I10_NPR|I10_PR1|I10_PR2|I10_PR3|I10_PR4|I10_PR5|I10_PR6|I10_PR7|I10_PR8|I10_PR9|I10_PR10|I10_PR11|I10_PR12|I10_PR13|I10_PR14|I10_PR15|I10_UNCBRTH|KID_STRATUM|LOS|MDC|MDC_NoPOA|PAY1|PL_NCHS|PRDAY1|PRDAY2|PRDAY3|PRDAY4|PRDAY5|PRDAY6|PRDAY7|PRDAY8|PRDAY9|PRDAY10|PRDAY11|PRDAY12|PRDAY13|PRDAY14|PRDAY15|PRVER|RACE|TOTCHG|TRAN_IN|TRAN_OUT|YEAR|ZIPINC_QRTL|APRDRG|APRDRG_Risk_Mortality|APRDRG_Severity|HOSP_BEDSIZE|HOSP_LOCTEACH|H_CONTRL|N_BRTH_U|N_DISC_U|N_HOSP_U|S_BRTH_U|S_CHLD_U|S_CMPB_U|S_DISC_U|S_HOSP_U|S_UNCB_U|\n+--------+--------+---+-----------+------+--------+----+------+-----------+----+---+------+---------+-----+--------+------+-------+-----------+-------+-------+-------+-------+-------+-------+-------+-------+-------+--------+--------+--------+--------+--------+--------+--------+--------+--------+--------+--------+--------+--------+--------+--------+--------+--------+--------+--------+--------+--------+-----------+-----------+-----------+-----------+------------+-------+-----------+-------+-------+-------+-------+-------+-------+-------+-------+-------+-------+--------+--------+--------+--------+--------+--------+-----------+-----------+---+---+---------+----+-------+------+------+------+------+------+------+------+------+------+-------+-------+-------+-------+-------+-------+-----+----+------+-------+--------+----+-----------+------+---------------------+---------------+------------+-------------+--------+--------+--------+--------+--------+--------+--------+--------+--------+--------+\n|   10581|10000038|  0|          1|     7|       0|   0|  NULL|          1|   3|794|    33|      794|   10|       0|     1|      0|          1|  Z3801|   P700|   NULL|   NULL|   NULL|   NULL|   NULL|   NULL|   NULL|    NULL|    NULL|    NULL|    NULL|    NULL|    NULL|    NULL|    NULL|    NULL|    NULL|    NULL|    NULL|    NULL|    NULL|    NULL|    NULL|    NULL|    NULL|    NULL|    NULL|    NULL|       NULL|       NULL|       NULL|       NULL|           1|      2|          0|      0|   NULL|   NULL|   NULL|   NULL|   NULL|   NULL|   NULL|   NULL|   NULL|    NULL|    NULL|    NULL|    NULL|    NULL|    NULL|          0|       1222|  3| 15|       15|   3|      2|  NULL|  NULL|  NULL|  NULL|  NULL|  NULL|  NULL|  NULL|  NULL|   NULL|   NULL|   NULL|   NULL|   NULL|   NULL|   10|   1|  3882|      0|       0|2016|          4|   640|                    1|              2|           2|            2|       2|   20961|  314671|      43|    6831|    6259|    5620|   13090|      40|    1211|\n|   10575|10000039|  1|       NULL|     3|       1|   0|  NULL|          6|   1|202|    33|      202|   10|       0|     0|      0|          1|   J218|   P271|   Q043|    J80|  R5600|   Q898|  H5000|  Z7722|  H6692|     F88|    Q300|    Q112|    Q142|   Q5320|    Z825|    Z931|   Z7951|    NULL|    NULL|    NULL|    NULL|    NULL|    NULL|    NULL|    NULL|    NULL|    NULL|    NULL|    NULL|    NULL|       NULL|       NULL|       NULL|       NULL|           0|     17|          0|      0|   NULL|   NULL|   NULL|   NULL|   NULL|   NULL|   NULL|   NULL|   NULL|    NULL|    NULL|    NULL|    NULL|    NULL|    NULL|          0|       1233|  3|  4|        4|   2|      3|  NULL|  NULL|  NULL|  NULL|  NULL|  NULL|  NULL|  NULL|  NULL|   NULL|   NULL|   NULL|   NULL|   NULL|   NULL|   10|   1| 18567|      0|       0|2016|          3|   132|                    2|              3|           3|            3|       2|  239800| 2632879|      65|   90599|  142079|   76562|  232678|      63|   14037|\n|   10358|10000043| 20|       NULL|     1|       0|   0|  NULL|          1|   1| 25|    33|       25|   10|       1|     1|      0|          1|   D320| G40909|   G935|   G936|    D62|  H5461|   E222|   NULL|   NULL|    NULL|    NULL|    NULL|    NULL|    NULL|    NULL|    NULL|    NULL|    NULL|    NULL|    NULL|    NULL|    NULL|    NULL|    NULL|    NULL|    NULL|    NULL|    NULL|    NULL|    NULL|       NULL|       NULL|       NULL|       NULL|           0|      7|          0|      3|00B10ZZ|03LK3ZZ|B31R1ZZ|   NULL|   NULL|   NULL|   NULL|   NULL|   NULL|    NULL|    NULL|    NULL|    NULL|    NULL|    NULL|          0|       1133| 16|  1|        1|   2|      2|     0|     0|     0|  NULL|  NULL|  NULL|  NULL|  NULL|  NULL|   NULL|   NULL|   NULL|   NULL|   NULL|   NULL|   10|   2|250208|      0|       0|2016|          3|    21|                    2|              4|           3|            3|       1|   15801|  252380|      10|    7211|   24146|    6265|   31357|      10|     946|\n|   10241|10000084| 16|       NULL|    12|       1|   0|  NULL|          6|   4|854|    34|      854|   10|       0|     0|      1|          1|  A4151|  K3580|   NULL|   NULL|   NULL|   NULL|   NULL|   NULL|   NULL|    NULL|    NULL|    NULL|    NULL|    NULL|    NULL|    NULL|    NULL|    NULL|    NULL|    NULL|    NULL|    NULL|    NULL|    NULL|    NULL|    NULL|    NULL|    NULL|    NULL|    NULL|       NULL|       NULL|       NULL|       NULL|           0|      2|          0|      1|0DTJ4ZZ|   NULL|   NULL|   NULL|   NULL|   NULL|   NULL|   NULL|   NULL|    NULL|    NULL|    NULL|    NULL|    NULL|    NULL|          0|       1232|  3| 18|       18|   3|      2|     0|  NULL|  NULL|  NULL|  NULL|  NULL|  NULL|  NULL|  NULL|   NULL|   NULL|   NULL|   NULL|   NULL|   NULL|   10|   6| 34621|      0|       0|2016|          4|   710|                    1|              1|           2|            3|       2|  152614| 1433459|      79|   50459|   45180|   40560|   95639|      76|    9899|\n|   10007|10000135| 15|       NULL|     2|       0|   0|  NULL|          1|   1|885|    33|      885|   10|       0|     1|      1|          1|    F39|  F1099|  F1210| Z62820|   NULL|   NULL|   NULL|   NULL|   NULL|    NULL|    NULL|    NULL|    NULL|    NULL|    NULL|    NULL|    NULL|    NULL|    NULL|    NULL|    NULL|    NULL|    NULL|    NULL|    NULL|    NULL|    NULL|    NULL|    NULL|    NULL|       NULL|       NULL|       NULL|       NULL|           0|      4|          0|      2|GZHZZZZ|GZ51ZZZ|   NULL|   NULL|   NULL|   NULL|   NULL|   NULL|   NULL|    NULL|    NULL|    NULL|    NULL|    NULL|    NULL|          0|       1133| 18| 19|       19|   2|      2|     1|    10|  NULL|  NULL|  NULL|  NULL|  NULL|  NULL|  NULL|   NULL|   NULL|   NULL|   NULL|   NULL|   NULL|   10|   3| 60154|      0|       0|2016|          4|   753|                    1|              2|           3|            3|       1|   15801|  252380|      10|    7211|   24146|    6265|   31357|      10|     946|\n|   10424|10000182|  3|       NULL|     1|       0|   0|  NULL|          1|   1|194|    33|      194|   10|       0|     0|      1|          1|   J189|   J918|   B970|   NULL|   NULL|   NULL|   NULL|   NULL|   NULL|    NULL|    NULL|    NULL|    NULL|    NULL|    NULL|    NULL|    NULL|    NULL|    NULL|    NULL|    NULL|    NULL|    NULL|    NULL|    NULL|    NULL|    NULL|    NULL|    NULL|    NULL|       NULL|       NULL|       NULL|       NULL|           0|      3|          0|      0|   NULL|   NULL|   NULL|   NULL|   NULL|   NULL|   NULL|   NULL|   NULL|    NULL|    NULL|    NULL|    NULL|    NULL|    NULL|          0|       1233|  3|  4|        4|   2|      1|  NULL|  NULL|  NULL|  NULL|  NULL|  NULL|  NULL|  NULL|  NULL|   NULL|   NULL|   NULL|   NULL|   NULL|   NULL|   10|   3| 11142|      0|       0|2016|          1|   139|                    1|              2|           3|            3|       2|  239800| 2632879|      65|   90599|  142079|   76562|  232678|      63|   14037|\n|   10553|10000207|  0|          1|     6|       0|   0|  NULL|          1|   2|794|    33|      794|   10|       0|     0|      0|          1|  Z3800|  P0382|  P9689|   Q211|  Z2882|   NULL|   NULL|   NULL|   NULL|    NULL|    NULL|    NULL|    NULL|    NULL|    NULL|    NULL|    NULL|    NULL|    NULL|    NULL|    NULL|    NULL|    NULL|    NULL|    NULL|    NULL|    NULL|    NULL|    NULL|    NULL|       NULL|       NULL|       NULL|       NULL|           1|      5|          0|      1|F13Z0ZZ|   NULL|   NULL|   NULL|   NULL|   NULL|   NULL|   NULL|   NULL|    NULL|    NULL|    NULL|    NULL|    NULL|    NULL|          0|       1233|  2| 15|       15|   3|      1|     0|  NULL|  NULL|  NULL|  NULL|  NULL|  NULL|  NULL|  NULL|   NULL|   NULL|   NULL|   NULL|   NULL|   NULL|   10|   6| 13227|      0|       0|2016|          2|   640|                    1|              3|           3|            3|       2|  239800| 2632879|      65|   90599|  142079|   76562|  232678|      63|   14037|\n|   10382|10000208|  0|          1|     7|       0|   0|  NULL|          1|   3|791|    33|      791|   10|       0|     0|      0|          1|  Z3801|   P704|  P0718|  P0739|    Z23|   NULL|   NULL|   NULL|   NULL|    NULL|    NULL|    NULL|    NULL|    NULL|    NULL|    NULL|    NULL|    NULL|    NULL|    NULL|    NULL|    NULL|    NULL|    NULL|    NULL|    NULL|    NULL|    NULL|    NULL|    NULL|       NULL|       NULL|       NULL|       NULL|           1|      5|          0|      1|0VTTXZZ|   NULL|   NULL|   NULL|   NULL|   NULL|   NULL|   NULL|   NULL|    NULL|    NULL|    NULL|    NULL|    NULL|    NULL|          0|       1233|  4| 15|       15|   3|      3|     3|  NULL|  NULL|  NULL|  NULL|  NULL|  NULL|  NULL|  NULL|   NULL|   NULL|   NULL|   NULL|   NULL|   NULL|   10|   3|  9941|      0|       0|2016|          2|   626|                    1|              2|           3|            3|       2|  239800| 2632879|      65|   90599|  142079|   76562|  232678|      63|   14037|\n|   10553|10000224|  0|          1|     3|       0|   0|  NULL|          1|   1|795|    33|      795|   10|       0|     0|      0|          1|  Z3800|   NULL|   NULL|   NULL|   NULL|   NULL|   NULL|   NULL|   NULL|    NULL|    NULL|    NULL|    NULL|    NULL|    NULL|    NULL|    NULL|    NULL|    NULL|    NULL|    NULL|    NULL|    NULL|    NULL|    NULL|    NULL|    NULL|    NULL|    NULL|    NULL|       NULL|       NULL|       NULL|       NULL|           1|      1|          0|      0|   NULL|   NULL|   NULL|   NULL|   NULL|   NULL|   NULL|   NULL|   NULL|    NULL|    NULL|    NULL|    NULL|    NULL|    NULL|          1|       1233|  2| 15|       15|   3|      1|  NULL|  NULL|  NULL|  NULL|  NULL|  NULL|  NULL|  NULL|  NULL|   NULL|   NULL|   NULL|   NULL|   NULL|   NULL|   10|   1| 12824|      0|       0|2016|          2|   640|                    1|              1|           3|            3|       2|  239800| 2632879|      65|   90599|  142079|   76562|  232678|      63|   14037|\n|   10477|10000225|  0|          1|     4|       0|   0|  NULL|          1|   2|794|    33|      794|   10|       0|     1|      0|          1|  Z3800|   Q212|  Q8909|   Q402|   Q447|   Q268|  P9683|   NULL|   NULL|    NULL|    NULL|    NULL|    NULL|    NULL|    NULL|    NULL|    NULL|    NULL|    NULL|    NULL|    NULL|    NULL|    NULL|    NULL|    NULL|    NULL|    NULL|    NULL|    NULL|    NULL|       NULL|       NULL|       NULL|       NULL|           1|      7|          0|      0|   NULL|   NULL|   NULL|   NULL|   NULL|   NULL|   NULL|   NULL|   NULL|    NULL|    NULL|    NULL|    NULL|    NULL|    NULL|          0|       1233|  2| 15|       15|   2|      4|  NULL|  NULL|  NULL|  NULL|  NULL|  NULL|  NULL|  NULL|  NULL|   NULL|   NULL|   NULL|   NULL|   NULL|   NULL|   10|NULL| 16236|      0|       0|2016|          3|   633|                    3|              3|           3|            3|       2|  239800| 2632879|      65|   90599|  142079|   76562|  232678|      63|   14037|\n|   10187|10000234| 14|       NULL|     6|       1|   0|  NULL|          1|   2|494|    33|      494|   10|       0|     0|      2|          1|S82891D|S82891A|   NULL|   NULL|   NULL|   NULL|   NULL|   NULL|   NULL|    NULL|    NULL|    NULL|    NULL|    NULL|    NULL|    NULL|    NULL|    NULL|    NULL|    NULL|    NULL|    NULL|    NULL|    NULL|    NULL|    NULL|    NULL|    NULL|    NULL|    NULL|    W19XXXD|    W19XXXD|       NULL|       NULL|           0|      2|          2|      1|0QSJ04Z|   NULL|   NULL|   NULL|   NULL|   NULL|   NULL|   NULL|   NULL|    NULL|    NULL|    NULL|    NULL|    NULL|    NULL|          0|       1233|  4|  8|        8|   3|      2|     3|  NULL|  NULL|  NULL|  NULL|  NULL|  NULL|  NULL|  NULL|   NULL|   NULL|   NULL|   NULL|   NULL|   NULL|   10|   2| 29069|      0|       0|2016|          3|   850|                    1|              1|           3|            3|       2|  239800| 2632879|      65|   90599|  142079|   76562|  232678|      63|   14037|\n|   10043|10000240|  0|          1|    10|       0|   0|  NULL|          1|   4|792|    34|      792|   10|       0|     1|      0|          1|  Z3800|   Q256|   P284|  P9689|   Q211|  P0089|  P0718|  P0737|  P1281|   P2912|    Z713|   P7883|    Z638|    P011|    P042|   P0449|   Z8619|   K5900|    NULL|    NULL|    NULL|    NULL|    NULL|    NULL|    NULL|    NULL|    NULL|    NULL|    NULL|    NULL|       NULL|       NULL|       NULL|       NULL|           1|     18|          0|      3|B24DZZZ|3E0G76Z|0DH67UZ|   NULL|   NULL|   NULL|   NULL|   NULL|   NULL|    NULL|    NULL|    NULL|    NULL|    NULL|    NULL|          0|       1233| 18| 15|       15|   2|      1|    16|     0|     0|  NULL|  NULL|  NULL|  NULL|  NULL|  NULL|   NULL|   NULL|   NULL|   NULL|   NULL|   NULL|   10|   2|101762|      0|       0|2016|          1|   621|                    1|              2|           3|            3|       2|  239800| 2632879|      65|   90599|  142079|   76562|  232678|      63|   14037|\n|   10457|10000247| 18|       NULL|     6|       0|   0|  NULL|          1|   2|481|    33|      481|   10|       0|     0|      1|          1|S72321A|S52571A|   NULL|   NULL|   NULL|   NULL|   NULL|   NULL|   NULL|    NULL|    NULL|    NULL|    NULL|    NULL|    NULL|    NULL|    NULL|    NULL|    NULL|    NULL|    NULL|    NULL|    NULL|    NULL|    NULL|    NULL|    NULL|    NULL|    NULL|    NULL|    V8659XA|       NULL|       NULL|       NULL|           0|      2|          1|      2|0QS806Z|0PSH04Z|   NULL|   NULL|   NULL|   NULL|   NULL|   NULL|   NULL|    NULL|    NULL|    NULL|    NULL|    NULL|    NULL|          0|       1233|  3|  8|        8|   3|      2|     1|     1|  NULL|  NULL|  NULL|  NULL|  NULL|  NULL|  NULL|   NULL|   NULL|   NULL|   NULL|   NULL|   NULL|   10|   1| 69084|      0|       0|2016|          3|   308|                    1|              2|           3|            3|       2|  239800| 2632879|      65|   90599|  142079|   76562|  232678|      63|   14037|\n|   10041|10000251| 16|       NULL|     3|       0|   0|  NULL|          1|   1|203|    33|      203|   10|       0|     1|      1|          1|  J4551|  B9689|   Z604| Z91048|    J42|   Z880|   NULL|   NULL|   NULL|    NULL|    NULL|    NULL|    NULL|    NULL|    NULL|    NULL|    NULL|    NULL|    NULL|    NULL|    NULL|    NULL|    NULL|    NULL|    NULL|    NULL|    NULL|    NULL|    NULL|    NULL|       NULL|       NULL|       NULL|       NULL|           0|      6|          0|      0|   NULL|   NULL|   NULL|   NULL|   NULL|   NULL|   NULL|   NULL|   NULL|    NULL|    NULL|    NULL|    NULL|    NULL|    NULL|          0|       1232|  3|  4|        4|   3|      1|  NULL|  NULL|  NULL|  NULL|  NULL|  NULL|  NULL|  NULL|  NULL|   NULL|   NULL|   NULL|   NULL|   NULL|   NULL|   10|   3| 13836|      0|       0|2016|          3|   141|                    1|              1|           2|            3|       2|  152614| 1433459|      79|   50459|   45180|   40560|   95639|      76|    9899|\n|   10043|10000272|  0|          0|     2|       1|   0|  NULL|          1|   1|328|    33|      328|   10|       0|     0|      1|          1|   Q400|   K429|  R0902|   Z713|   NULL|   NULL|   NULL|   NULL|   NULL|    NULL|    NULL|    NULL|    NULL|    NULL|    NULL|    NULL|    NULL|    NULL|    NULL|    NULL|    NULL|    NULL|    NULL|    NULL|    NULL|    NULL|    NULL|    NULL|    NULL|    NULL|       NULL|       NULL|       NULL|       NULL|           0|      4|          0|      3|0D874ZZ|0WQF4ZZ|B24DZZZ|   NULL|   NULL|   NULL|   NULL|   NULL|   NULL|    NULL|    NULL|    NULL|    NULL|    NULL|    NULL|          0|       1233|  3|  6|        6|   2|      2|     1|     1|     2|  NULL|  NULL|  NULL|  NULL|  NULL|  NULL|   NULL|   NULL|   NULL|   NULL|   NULL|   NULL|   10|   1| 24096|      0|       0|2016|          3|   222|                    1|              1|           3|            3|       2|  239800| 2632879|      65|   90599|  142079|   76562|  232678|      63|   14037|\n|   10205|10000281|  1|       NULL|     1|       0|   0|  NULL|          1|   1|101|    33|      101|   10|       0|     0|      1|          1| G40909|   R001|   NULL|   NULL|   NULL|   NULL|   NULL|   NULL|   NULL|    NULL|    NULL|    NULL|    NULL|    NULL|    NULL|    NULL|    NULL|    NULL|    NULL|    NULL|    NULL|    NULL|    NULL|    NULL|    NULL|    NULL|    NULL|    NULL|    NULL|    NULL|       NULL|       NULL|       NULL|       NULL|           0|      2|          0|      2|4A00X4Z|B246ZZ4|   NULL|   NULL|   NULL|   NULL|   NULL|   NULL|   NULL|    NULL|    NULL|    NULL|    NULL|    NULL|    NULL|          0|       1232|  1|  1|        1|   3|      1|     0|     0|  NULL|  NULL|  NULL|  NULL|  NULL|  NULL|  NULL|   NULL|   NULL|   NULL|   NULL|   NULL|   NULL|   10|   1| 20170|      0|       0|2016|          4|    53|                    1|              1|           2|            3|       2|  152614| 1433459|      79|   50459|   45180|   40560|   95639|      76|    9899|\n|   10544|10000305| 17|       NULL|     9|       0|   0|  NULL|          5|   3|605|    33|      605|   10|       0|     1|      1|          1|S41112A|   R569|S41111A|   F329|   F410|   Z915|   Z818| J45909|   NULL|    NULL|    NULL|    NULL|    NULL|    NULL|    NULL|    NULL|    NULL|    NULL|    NULL|    NULL|    NULL|    NULL|    NULL|    NULL|    NULL|    NULL|    NULL|    NULL|    NULL|    NULL|    X781XXA|     Y92002|       NULL|       NULL|           0|      8|          2|      0|   NULL|   NULL|   NULL|   NULL|   NULL|   NULL|   NULL|   NULL|   NULL|    NULL|    NULL|    NULL|    NULL|    NULL|    NULL|          0|       1223|  2|  9|        9|   2|      6|  NULL|  NULL|  NULL|  NULL|  NULL|  NULL|  NULL|  NULL|  NULL|   NULL|   NULL|   NULL|   NULL|   NULL|   NULL|   10|   1| 12026|      0|       2|2016|          3|   384|                    1|              2|           3|            2|       2|   34745|  439343|      27|   12150|   10673|    9757|   22823|      27|    2393|\n|   10108|10000322|  0|          1|    11|       1|   0|  NULL|          1|   4|795|    34|      795|   10|       0|     1|      0|          1|  Z3831|  P0518|    Z23|   NULL|   NULL|   NULL|   NULL|   NULL|   NULL|    NULL|    NULL|    NULL|    NULL|    NULL|    NULL|    NULL|    NULL|    NULL|    NULL|    NULL|    NULL|    NULL|    NULL|    NULL|    NULL|    NULL|    NULL|    NULL|    NULL|    NULL|       NULL|       NULL|       NULL|       NULL|           1|      3|          0|      1|3E0234Z|   NULL|   NULL|   NULL|   NULL|   NULL|   NULL|   NULL|   NULL|    NULL|    NULL|    NULL|    NULL|    NULL|    NULL|          1|       1233|  4| 15|       15|   3|      3|     0|  NULL|  NULL|  NULL|  NULL|  NULL|  NULL|  NULL|  NULL|   NULL|   NULL|   NULL|   NULL|   NULL|   NULL|   10|   1| 15331|      0|       0|2016|          4|   626|                    1|              2|           3|            3|       2|  239800| 2632879|      65|   90599|  142079|   76562|  232678|      63|   14037|\n|   10112|10000343|  0|          1|    10|       0|   0|  NULL|          1|   4|794|    34|      794|   10|       0|     1|      0|          1|  Z3801|    P09|   P081|    Z23|   NULL|   NULL|   NULL|   NULL|   NULL|    NULL|    NULL|    NULL|    NULL|    NULL|    NULL|    NULL|    NULL|    NULL|    NULL|    NULL|    NULL|    NULL|    NULL|    NULL|    NULL|    NULL|    NULL|    NULL|    NULL|    NULL|       NULL|       NULL|       NULL|       NULL|           1|      4|          0|      2|F13ZG4Z|3E0234Z|   NULL|   NULL|   NULL|   NULL|   NULL|   NULL|   NULL|    NULL|    NULL|    NULL|    NULL|    NULL|    NULL|          0|       1221|  3| 15|       15|   3|      1|     1|     2|  NULL|  NULL|  NULL|  NULL|  NULL|  NULL|  NULL|   NULL|   NULL|   NULL|   NULL|   NULL|   NULL|   10|   1|  5034|      0|       0|2016|          4|   640|                    1|              1|           1|            2|       2|   16566|  230626|      71|    5333|    3641|    4394|    8974|      62|     939|\n|   10046|10000346|  5|       NULL|     3|       1|   0|  NULL|          1|   1|153|    33|      153|   10|       0|     1|      0|          1|   J069|   B349|   NULL|   NULL|   NULL|   NULL|   NULL|   NULL|   NULL|    NULL|    NULL|    NULL|    NULL|    NULL|    NULL|    NULL|    NULL|    NULL|    NULL|    NULL|    NULL|    NULL|    NULL|    NULL|    NULL|    NULL|    NULL|    NULL|    NULL|    NULL|       NULL|       NULL|       NULL|       NULL|           0|      2|          0|      0|   NULL|   NULL|   NULL|   NULL|   NULL|   NULL|   NULL|   NULL|   NULL|    NULL|    NULL|    NULL|    NULL|    NULL|    NULL|          0|       1232|  0|  3|        3|   3|      1|  NULL|  NULL|  NULL|  NULL|  NULL|  NULL|  NULL|  NULL|  NULL|   NULL|   NULL|   NULL|   NULL|   NULL|   NULL|   10|   3| 14812|      2|       0|2016|          3|   113|                    1|              1|           2|            3|       2|  152614| 1433459|      79|   50459|   45180|   40560|   95639|      76|    9899|\n+--------+--------+---+-----------+------+--------+----+------+-----------+----+---+------+---------+-----+--------+------+-------+-----------+-------+-------+-------+-------+-------+-------+-------+-------+-------+--------+--------+--------+--------+--------+--------+--------+--------+--------+--------+--------+--------+--------+--------+--------+--------+--------+--------+--------+--------+--------+-----------+-----------+-----------+-----------+------------+-------+-----------+-------+-------+-------+-------+-------+-------+-------+-------+-------+-------+--------+--------+--------+--------+--------+--------+-----------+-----------+---+---+---------+----+-------+------+------+------+------+------+------+------+------+------+-------+-------+-------+-------+-------+-------+-----+----+------+-------+--------+----+-----------+------+---------------------+---------------+------------+-------------+--------+--------+--------+--------+--------+--------+--------+--------+--------+--------+\nonly showing top 20 rows\n\n"
     ]
    }
   ],
   "source": [
    "from pyspark.sql import SparkSession\n",
    "from pyspark.sql.functions import col\n",
    "from pyspark.sql.types import IntegerType\n",
    "\n",
    "merged_data = merged_data.withColumn(\"KID_STRATUM\", col(\"KID_STRATUM\").cast(IntegerType()))\n",
    "merged_data = merged_data.withColumn(\"PAY1\", col(\"PAY1\").cast(IntegerType()))\n",
    "merged_data = merged_data.withColumn(\"PL_NCHS\", col(\"PL_NCHS\").cast(IntegerType()))\n",
    "merged_data = merged_data.withColumn(\"LOS\", col(\"LOS\").cast(IntegerType()))\n",
    "\n",
    "# Show the result to verify the changes\n",
    "merged_data.show()"
   ]
  },
  {
   "cell_type": "markdown",
   "metadata": {
    "application/vnd.databricks.v1+cell": {
     "cellMetadata": {
      "byteLimit": 2048000,
      "rowLimit": 10000
     },
     "inputWidgets": {},
     "nuid": "8d04971f-97ba-48d3-b5cf-b993f7cd799a",
     "showTitle": false,
     "tableResultSettingsMap": {},
     "title": ""
    }
   },
   "source": [
    "**Droping insignificant variables**"
   ]
  },
  {
   "cell_type": "code",
   "execution_count": 0,
   "metadata": {
    "application/vnd.databricks.v1+cell": {
     "cellMetadata": {
      "byteLimit": 2048000,
      "rowLimit": 10000
     },
     "inputWidgets": {},
     "nuid": "074af952-25f4-4638-b2f3-7383463b7658",
     "showTitle": false,
     "tableResultSettingsMap": {},
     "title": ""
    }
   },
   "outputs": [
    {
     "output_type": "stream",
     "name": "stdout",
     "output_type": "stream",
     "text": [
      "root\n |-- HOSP_KID: integer (nullable = true)\n |-- RECNUM: integer (nullable = true)\n |-- AGE: integer (nullable = true)\n |-- AGE_NEONATE: integer (nullable = true)\n |-- AMONTH: integer (nullable = true)\n |-- AWEEKEND: integer (nullable = true)\n |-- DIED: integer (nullable = true)\n |-- DISCWT: integer (nullable = true)\n |-- DISPUNIFORM: integer (nullable = true)\n |-- DQTR: integer (nullable = true)\n |-- DRG: integer (nullable = true)\n |-- DRGVER: integer (nullable = true)\n |-- DRG_NoPOA: integer (nullable = true)\n |-- DXVER: integer (nullable = true)\n |-- ELECTIVE: integer (nullable = true)\n |-- FEMALE: integer (nullable = true)\n |-- HCUP_ED: integer (nullable = true)\n |-- HOSP_REGION: integer (nullable = true)\n |-- I10_DX1: string (nullable = true)\n |-- I10_DX2: string (nullable = true)\n |-- I10_DX3: string (nullable = true)\n |-- I10_DX4: string (nullable = true)\n |-- I10_DX5: string (nullable = true)\n |-- I10_DX6: string (nullable = true)\n |-- I10_DX7: string (nullable = true)\n |-- I10_DX8: string (nullable = true)\n |-- I10_DX9: string (nullable = true)\n |-- I10_DX10: string (nullable = true)\n |-- I10_DX11: string (nullable = true)\n |-- I10_DX12: string (nullable = true)\n |-- I10_DX13: string (nullable = true)\n |-- I10_DX14: string (nullable = true)\n |-- I10_DX15: string (nullable = true)\n |-- I10_DX16: string (nullable = true)\n |-- I10_DX17: string (nullable = true)\n |-- I10_DX18: string (nullable = true)\n |-- I10_DX19: string (nullable = true)\n |-- I10_DX20: string (nullable = true)\n |-- I10_DX21: string (nullable = true)\n |-- I10_DX22: string (nullable = true)\n |-- I10_DX23: string (nullable = true)\n |-- I10_DX24: string (nullable = true)\n |-- I10_DX25: string (nullable = true)\n |-- I10_DX26: string (nullable = true)\n |-- I10_DX27: string (nullable = true)\n |-- I10_DX28: string (nullable = true)\n |-- I10_DX29: string (nullable = true)\n |-- I10_DX30: string (nullable = true)\n |-- I10_ECAUSE1: string (nullable = true)\n |-- I10_ECAUSE2: string (nullable = true)\n |-- I10_ECAUSE3: string (nullable = true)\n |-- I10_ECAUSE4: string (nullable = true)\n |-- I10_HOSPBRTH: integer (nullable = true)\n |-- I10_NDX: integer (nullable = true)\n |-- I10_NECAUSE: integer (nullable = true)\n |-- I10_NPR: integer (nullable = true)\n |-- I10_UNCBRTH: string (nullable = true)\n |-- KID_STRATUM: integer (nullable = true)\n |-- LOS: integer (nullable = true)\n |-- MDC: string (nullable = true)\n |-- MDC_NoPOA: string (nullable = true)\n |-- PAY1: integer (nullable = true)\n |-- PL_NCHS: integer (nullable = true)\n |-- PRVER: integer (nullable = true)\n |-- RACE: integer (nullable = true)\n |-- TOTCHG: integer (nullable = true)\n |-- TRAN_IN: integer (nullable = true)\n |-- TRAN_OUT: integer (nullable = true)\n |-- YEAR: integer (nullable = true)\n |-- ZIPINC_QRTL: integer (nullable = true)\n |-- APRDRG: integer (nullable = true)\n |-- APRDRG_Risk_Mortality: integer (nullable = true)\n |-- APRDRG_Severity: integer (nullable = true)\n |-- HOSP_BEDSIZE: integer (nullable = true)\n |-- HOSP_LOCTEACH: integer (nullable = true)\n |-- H_CONTRL: integer (nullable = true)\n |-- N_BRTH_U: integer (nullable = true)\n |-- N_DISC_U: integer (nullable = true)\n |-- N_HOSP_U: integer (nullable = true)\n |-- S_BRTH_U: integer (nullable = true)\n |-- S_CHLD_U: integer (nullable = true)\n |-- S_CMPB_U: integer (nullable = true)\n |-- S_DISC_U: integer (nullable = true)\n |-- S_HOSP_U: integer (nullable = true)\n |-- S_UNCB_U: integer (nullable = true)\n\n"
     ]
    }
   ],
   "source": [
    "\n",
    "\n",
    "# Drop columns I10_PR1 to I10_PR15\n",
    "merged_data = merged_data.drop(*[f'I10_PR{i}' for i in range(1, 16)])\n",
    "\n",
    "# Drop columns PRDAY1 to PRDAY15\n",
    "merged_data = merged_data.drop(*[f'PRDAY{i}' for i in range(1, 16)])\n",
    "\n",
    "# Verify the updated schema\n",
    "merged_data.printSchema()\n"
   ]
  },
  {
   "cell_type": "markdown",
   "metadata": {
    "application/vnd.databricks.v1+cell": {
     "cellMetadata": {
      "byteLimit": 2048000,
      "rowLimit": 10000
     },
     "inputWidgets": {},
     "nuid": "fb85adbf-7549-45a8-af0a-29310bc46c47",
     "showTitle": false,
     "tableResultSettingsMap": {},
     "title": ""
    }
   },
   "source": [
    "**Droping null values**"
   ]
  },
  {
   "cell_type": "code",
   "execution_count": 0,
   "metadata": {
    "application/vnd.databricks.v1+cell": {
     "cellMetadata": {
      "byteLimit": 2048000,
      "rowLimit": 10000
     },
     "inputWidgets": {},
     "nuid": "c54506b0-7ddb-4760-9cef-0039b1e95bab",
     "showTitle": false,
     "tableResultSettingsMap": {},
     "title": ""
    }
   },
   "outputs": [],
   "source": [
    "from pyspark.sql.functions import col, isnan, count, when\n",
    "\n",
    "# Define the columns from which null values should be removed\n",
    "columns_to_check = ['AGE', 'HOSP_REGION', 'RACE', 'FEMALE', 'LOS', 'TOTCHG']\n",
    "\n",
    "# Drop rows with nulls in the specified columns\n",
    "merged_data = merged_data.na.drop(subset=columns_to_check)"
   ]
  },
  {
   "cell_type": "markdown",
   "metadata": {
    "application/vnd.databricks.v1+cell": {
     "cellMetadata": {
      "byteLimit": 2048000,
      "rowLimit": 10000
     },
     "inputWidgets": {},
     "nuid": "10f63793-455e-4200-a4ff-2734201c25b2",
     "showTitle": false,
     "tableResultSettingsMap": {},
     "title": ""
    }
   },
   "source": [
    "### Temporary View Creation on a specific pnemonia diagnosis data extracted from original data"
   ]
  },
  {
   "cell_type": "code",
   "execution_count": 0,
   "metadata": {
    "application/vnd.databricks.v1+cell": {
     "cellMetadata": {
      "byteLimit": 2048000,
      "rowLimit": 10000
     },
     "inputWidgets": {},
     "nuid": "7cc28188-7ad3-41ab-b1bd-11ead1f0ea19",
     "showTitle": false,
     "tableResultSettingsMap": {},
     "title": ""
    }
   },
   "outputs": [],
   "source": [
    "# Define the values to filter\n",
    "drg_values = [193, 194, 195]\n",
    "i10_dx_values = [\n",
    "    'B330', 'J09X1', 'J09X2', 'J1000'\n",
    "]\n",
    "\n",
    "# Filter `DRG` column and multiple `I10_DX` columns\n",
    "filtered_data = merged_data.filter(\n",
    "    (col(\"DRG\").isin(drg_values)) &\n",
    "    (\n",
    "        (col(\"I10_DX1\").isin(i10_dx_values)) |\n",
    "        (col(\"I10_DX2\").isin(i10_dx_values)) |\n",
    "        (col(\"I10_DX3\").isin(i10_dx_values)) |\n",
    "        (col(\"I10_DX4\").isin(i10_dx_values)) |\n",
    "        (col(\"I10_DX5\").isin(i10_dx_values)) |\n",
    "        (col(\"I10_DX6\").isin(i10_dx_values)) |\n",
    "        (col(\"I10_DX7\").isin(i10_dx_values)) |\n",
    "        (col(\"I10_DX8\").isin(i10_dx_values)) |\n",
    "        (col(\"I10_DX9\").isin(i10_dx_values)) |\n",
    "        (col(\"I10_DX10\").isin(i10_dx_values)) |\n",
    "        (col(\"I10_DX11\").isin(i10_dx_values)) |\n",
    "        (col(\"I10_DX12\").isin(i10_dx_values)) |\n",
    "        (col(\"I10_DX13\").isin(i10_dx_values)) |\n",
    "        (col(\"I10_DX14\").isin(i10_dx_values)) |\n",
    "        (col(\"I10_DX15\").isin(i10_dx_values)) |\n",
    "        (col(\"I10_DX16\").isin(i10_dx_values)) |\n",
    "        (col(\"I10_DX17\").isin(i10_dx_values)) |\n",
    "        (col(\"I10_DX18\").isin(i10_dx_values)) |\n",
    "        (col(\"I10_DX19\").isin(i10_dx_values)) |\n",
    "        (col(\"I10_DX20\").isin(i10_dx_values)) |\n",
    "        (col(\"I10_DX21\").isin(i10_dx_values)) |\n",
    "        (col(\"I10_DX22\").isin(i10_dx_values)) |\n",
    "        (col(\"I10_DX23\").isin(i10_dx_values)) |\n",
    "        (col(\"I10_DX24\").isin(i10_dx_values)) |\n",
    "        (col(\"I10_DX25\").isin(i10_dx_values)) |\n",
    "        (col(\"I10_DX26\").isin(i10_dx_values)) |\n",
    "        (col(\"I10_DX27\").isin(i10_dx_values)) |\n",
    "        (col(\"I10_DX28\").isin(i10_dx_values)) |\n",
    "        (col(\"I10_DX29\").isin(i10_dx_values)) |\n",
    "        (col(\"I10_DX30\").isin(i10_dx_values))\n",
    "    )\n",
    ")\n",
    "\n",
    "\n"
   ]
  },
  {
   "cell_type": "code",
   "execution_count": 0,
   "metadata": {
    "application/vnd.databricks.v1+cell": {
     "cellMetadata": {
      "byteLimit": 2048000,
      "rowLimit": 10000
     },
     "inputWidgets": {},
     "nuid": "f6934e93-70aa-41b3-9370-c3637cab6edf",
     "showTitle": false,
     "tableResultSettingsMap": {},
     "title": ""
    }
   },
   "outputs": [],
   "source": [
    "# Create a temporary view of the DataFrame\n",
    "filtered_data.createOrReplaceTempView(\"filtered_view\")"
   ]
  },
  {
   "cell_type": "markdown",
   "metadata": {
    "application/vnd.databricks.v1+cell": {
     "cellMetadata": {},
     "inputWidgets": {},
     "nuid": "627215c6-7cf6-4ead-8fa2-d99a21fa869d",
     "showTitle": false,
     "tableResultSettingsMap": {},
     "title": ""
    }
   },
   "source": [
    "## Feature Engineering\n",
    "\n",
    "\n",
    "### Correlation matrix wrt _LOS_"
   ]
  },
  {
   "cell_type": "code",
   "execution_count": 0,
   "metadata": {
    "application/vnd.databricks.v1+cell": {
     "cellMetadata": {
      "byteLimit": 2048000,
      "rowLimit": 10000
     },
     "inputWidgets": {},
     "nuid": "b74a2306-1bc0-4e56-b6ee-8a569e9dc0a7",
     "showTitle": false,
     "tableResultSettingsMap": {},
     "title": ""
    }
   },
   "outputs": [
    {
     "output_type": "stream",
     "name": "stdout",
     "output_type": "stream",
     "text": [
      "HOSP_KID                 0.011760\nRECNUM                   0.011890\nAGE                      0.029885\nAGE_NEONATE              0.010409\nAMONTH                  -0.046670\nAWEEKEND                -0.032582\nDIED                     0.026037\nDISCWT                        NaN\nDISPUNIFORM              0.122079\nDQTR                    -0.017371\nDRG                     -0.318250\nDRGVER                  -0.055363\nDRG_NoPOA               -0.318250\nDXVER                         NaN\nELECTIVE                 0.004876\nFEMALE                   0.038111\nHCUP_ED                  0.020147\nHOSP_REGION              0.013067\nI10_HOSPBRTH                  NaN\nI10_NDX                  0.380174\nI10_NECAUSE              0.052828\nI10_NPR                  0.254836\nKID_STRATUM              0.081003\nPAY1                    -0.025174\nPL_NCHS                 -0.010568\nPRVER                         NaN\nRACE                     0.003832\nTOTCHG                   0.784490\nTRAN_IN                  0.020179\nTRAN_OUT                -0.020868\nYEAR                          NaN\nZIPINC_QRTL             -0.030237\nAPRDRG                   0.091002\nAPRDRG_Risk_Mortality    0.337929\nAPRDRG_Severity          0.364763\nHOSP_BEDSIZE             0.008204\nHOSP_LOCTEACH            0.082490\nH_CONTRL                 0.034028\nN_BRTH_U                 0.021744\nN_DISC_U                 0.034690\nN_HOSP_U                -0.000243\nS_BRTH_U                 0.023612\nS_CHLD_U                 0.098462\nS_CMPB_U                 0.024304\nS_DISC_U                 0.100500\nS_HOSP_U                 0.011828\nS_UNCB_U                 0.019586\nLOS                      1.000000\nName: LOS, dtype: float64\n"
     ]
    }
   ],
   "source": [
    "from pyspark.sql.functions import col\n",
    "\n",
    "# Fill null values with zero (or another appropriate value)\n",
    "filtered_data = filtered_data.fillna(0)\n",
    "\n",
    "# VectorAssembler with the handleInvalid set to 'keep' just in case there are any overlooked nulls\n",
    "assembler = VectorAssembler(inputCols=numerical_cols, outputCol=\"features\", handleInvalid=\"keep\")\n",
    "\n",
    "# Transform the data\n",
    "transformed_data = assembler.transform(filtered_data)\n",
    "\n",
    "# Compute the correlation matrix\n",
    "correlation_matrix = Correlation.corr(transformed_data, \"features\").head()\n",
    "\n",
    "# Extract the correlation matrix as a numpy array\n",
    "correlation_array = correlation_matrix[0].toArray()\n",
    "\n",
    "# Create a Pandas DataFrame to display the correlation matrix clearly\n",
    "import pandas as pd\n",
    "correlation_df = pd.DataFrame(correlation_array, index=numerical_cols, columns=numerical_cols)\n",
    "\n",
    "# Display the correlation matrix focusing on 'LOS'\n",
    "print(correlation_df['LOS'])\n"
   ]
  },
  {
   "cell_type": "markdown",
   "metadata": {
    "application/vnd.databricks.v1+cell": {
     "cellMetadata": {},
     "inputWidgets": {},
     "nuid": "7f2df022-e9c3-4268-a420-99d87d6d24a1",
     "showTitle": false,
     "tableResultSettingsMap": {},
     "title": ""
    }
   },
   "source": [
    "So based on the correlation matrix some variables with less correlation has been removed"
   ]
  },
  {
   "cell_type": "code",
   "execution_count": 0,
   "metadata": {
    "application/vnd.databricks.v1+cell": {
     "cellMetadata": {
      "byteLimit": 2048000,
      "rowLimit": 10000
     },
     "inputWidgets": {},
     "nuid": "ee6d21c0-65b2-4c62-9820-a92015cdaf9d",
     "showTitle": false,
     "tableResultSettingsMap": {},
     "title": ""
    }
   },
   "outputs": [],
   "source": [
    "columns_to_drop = [f\"I10_DX{i}\" for i in range(1, 31)] + [\n",
    "    \"RECNUM\", \"AGE_NEONATE\", \"AMONTH\", \"AWEEKEND\", \"DISCWT\", \"DQTR\", \"DRGVER\",\n",
    "    \"DRG_NoPOA\", \"DXVER\", \"I10_ECAUSE1\", \"I10_ECAUSE2\", \"I10_ECAUSE3\",\"I10_ECAUSE4\",\n",
    "    \"I10_HOSPBRTH\", \"I10_NDX\", \"I10_NPR\", \"MDC\", \"MDC_NoPOA\", \"N_BRTH_U\",\n",
    "    \"N_DISC_U\", \"N_HOSP_U\", \"S_BRTH_U\", \"S_CHLD_U\", \"S_CMPB_U\", \"S_DISC_U\",\n",
    "    \"S_HOSP_U\", \"S_UNCB_U\", \"YEAR\", \"I10_UNCBRTH\", \"PRVER\"\n",
    "]\n",
    "\n",
    "filtered_data = filtered_data.drop(*columns_to_drop)\n"
   ]
  },
  {
   "cell_type": "code",
   "execution_count": 0,
   "metadata": {
    "application/vnd.databricks.v1+cell": {
     "cellMetadata": {
      "byteLimit": 2048000,
      "rowLimit": 10000
     },
     "inputWidgets": {},
     "nuid": "c12039e2-75a5-44b7-bc7e-6d2a9920b398",
     "showTitle": false,
     "tableResultSettingsMap": {},
     "title": ""
    }
   },
   "outputs": [
    {
     "output_type": "stream",
     "name": "stdout",
     "output_type": "stream",
     "text": [
      "+--------+---+----+-----------+---+--------+------+-------+-----------+-----------+-----------+---+----+-------+----+------+-------+--------+-----------+------+---------------------+---------------+------------+-------------+--------+\n|HOSP_KID|AGE|DIED|DISPUNIFORM|DRG|ELECTIVE|FEMALE|HCUP_ED|HOSP_REGION|I10_NECAUSE|KID_STRATUM|LOS|PAY1|PL_NCHS|RACE|TOTCHG|TRAN_IN|TRAN_OUT|ZIPINC_QRTL|APRDRG|APRDRG_Risk_Mortality|APRDRG_Severity|HOSP_BEDSIZE|HOSP_LOCTEACH|H_CONTRL|\n+--------+---+----+-----------+---+--------+------+-------+-----------+-----------+-----------+---+----+-------+----+------+-------+--------+-----------+------+---------------------+---------------+------------+-------------+--------+\n|       0|  0|   0|          0|  0|       0|     0|      0|          0|          0|          0|  0|   0|      0|   0|     0|      0|       0|          0|     0|                    0|              0|           0|            0|       0|\n+--------+---+----+-----------+---+--------+------+-------+-----------+-----------+-----------+---+----+-------+----+------+-------+--------+-----------+------+---------------------+---------------+------------+-------------+--------+\n\n"
     ]
    }
   ],
   "source": [
    "from pyspark.sql.functions import col, sum\n",
    "\n",
    "# Count nulls in each column\n",
    "null_counts = filtered_data.select([sum(col(column).isNull().cast(\"int\")).alias(column) for column in filtered_data.columns])\n",
    "\n",
    "# Show the null counts for each column\n",
    "null_counts.show()\n"
   ]
  },
  {
   "cell_type": "code",
   "execution_count": 0,
   "metadata": {
    "application/vnd.databricks.v1+cell": {
     "cellMetadata": {
      "byteLimit": 2048000,
      "rowLimit": 10000
     },
     "inputWidgets": {},
     "nuid": "9ab559ac-e6db-4db0-9fac-69f254e449ba",
     "showTitle": false,
     "tableResultSettingsMap": {},
     "title": ""
    }
   },
   "outputs": [],
   "source": [
    "# List of columns to check for null values\n",
    "columns_to_check = [\n",
    "    \"DIED\", \"DISPUNIFORM\", \"ELECTIVE\", \"PAY1\", \"PL_NCHS\", \"TRAN_IN\", \"TRAN_OUT\", \"ZIPINC_QRTL\"\n",
    "]\n",
    "\n",
    "# Drop rows with null values in the specified columns\n",
    "filtered_data= filtered_data.dropna(subset=columns_to_check)\n",
    "\n"
   ]
  },
  {
   "cell_type": "markdown",
   "metadata": {
    "application/vnd.databricks.v1+cell": {
     "cellMetadata": {},
     "inputWidgets": {},
     "nuid": "e33afae1-b203-4c5e-b913-8f804d21c48f",
     "showTitle": false,
     "tableResultSettingsMap": {},
     "title": ""
    }
   },
   "source": [
    "# 2. Machine Learning Models Implementation"
   ]
  },
  {
   "cell_type": "markdown",
   "metadata": {
    "application/vnd.databricks.v1+cell": {
     "cellMetadata": {},
     "inputWidgets": {},
     "nuid": "b9d96753-b2cb-4a97-9ad6-51480f0a3278",
     "showTitle": false,
     "tableResultSettingsMap": {},
     "title": ""
    }
   },
   "source": [
    "### MODEL SELECTION AND TRAINING"
   ]
  },
  {
   "cell_type": "markdown",
   "metadata": {
    "application/vnd.databricks.v1+cell": {
     "cellMetadata": {},
     "inputWidgets": {},
     "nuid": "0543c5a5-a701-4eb4-9c46-af42d93a2b93",
     "showTitle": false,
     "tableResultSettingsMap": {},
     "title": ""
    }
   },
   "source": [
    "### XGBoost"
   ]
  },
  {
   "cell_type": "markdown",
   "metadata": {
    "application/vnd.databricks.v1+cell": {
     "cellMetadata": {},
     "inputWidgets": {},
     "nuid": "fc1786cc-5f44-4200-8686-e03acd5486d1",
     "showTitle": false,
     "tableResultSettingsMap": {},
     "title": ""
    }
   },
   "source": [
    "XGBoost:\n",
    "\n",
    "Its ability to handle large datasets efficiently and its superior performance due to gradient boosting framework which optimizes both bias and variance, making it a strong choice for complex regression tasks.\n",
    "\n",
    "Suitability: XGBoost is particularly effective in datasets with mixed feature types or where feature interactions are significant, making it ideal if the dataset includes various numerical and categorical variables after encoding."
   ]
  },
  {
   "cell_type": "code",
   "execution_count": 0,
   "metadata": {
    "application/vnd.databricks.v1+cell": {
     "cellMetadata": {
      "byteLimit": 2048000,
      "rowLimit": 10000
     },
     "inputWidgets": {},
     "nuid": "17ef0762-84a6-40b0-8fdd-1069143df719",
     "showTitle": false,
     "tableResultSettingsMap": {},
     "title": ""
    }
   },
   "outputs": [
    {
     "output_type": "stream",
     "name": "stdout",
     "output_type": "stream",
     "text": [
      "Mean Absolute Error (MAE): 0.9382096176994019\nMean Squared Error (MSE): 2.1462926688717903\nR² Score: 0.6888103671734793\n"
     ]
    }
   ],
   "source": [
    "# Import necessary libraries\n",
    "from xgboost import XGBRegressor\n",
    "from sklearn.metrics import mean_absolute_error, mean_squared_error, r2_score\n",
    "from pyspark.ml.feature import VectorAssembler\n",
    "from pyspark.sql import SparkSession\n",
    "from sklearn.model_selection import train_test_split\n",
    "import pandas as pd\n",
    "\n",
    "# Assuming 'filtered_data' is a PySpark DataFrame with preprocessed features and target variable 'LOS'\n",
    "# Convert PySpark DataFrame to Pandas DataFrame for compatibility with XGBRegressor\n",
    "pandas_df = filtered_data.toPandas()\n",
    "\n",
    "# Define the features and target variable\n",
    "X = pandas_df.drop(columns=['LOS'])  # Drop the target column\n",
    "y = pandas_df['LOS']  # Target column\n",
    "\n",
    "# Split the data into training and testing sets\n",
    "X_train, X_test, y_train, y_test = train_test_split(X, y, test_size=0.2, random_state=42)\n",
    "\n",
    "# Initialize the XGBRegressor with tuned parameters\n",
    "xgb_model = XGBRegressor(\n",
    "    objective='reg:squarederror',\n",
    "    learning_rate=0.1,\n",
    "    max_depth=5,\n",
    "    n_estimators=100,\n",
    "    colsample_bytree=0.8,\n",
    "    subsample=0.8,\n",
    "    random_state=42\n",
    ")\n",
    "\n",
    "# Train the model\n",
    "xgb_model.fit(X_train, y_train)\n",
    "\n",
    "# Make predictions on the test data\n",
    "y_pred = xgb_model.predict(X_test)\n",
    "\n",
    "# Calculate performance metrics\n",
    "mae = mean_absolute_error(y_test, y_pred)\n",
    "mse = mean_squared_error(y_test, y_pred)\n",
    "r2 = r2_score(y_test, y_pred)\n",
    "\n",
    "# Print performance metrics\n",
    "print(f\"Mean Absolute Error (MAE): {mae}\")\n",
    "print(f\"Mean Squared Error (MSE): {mse}\")\n",
    "print(f\"R² Score: {r2}\")\n"
   ]
  },
  {
   "cell_type": "markdown",
   "metadata": {
    "application/vnd.databricks.v1+cell": {
     "cellMetadata": {},
     "inputWidgets": {},
     "nuid": "1ae88958-c221-4a4e-b7db-46b37c1fc749",
     "showTitle": false,
     "tableResultSettingsMap": {},
     "title": ""
    }
   },
   "source": [
    "### Random Forest"
   ]
  },
  {
   "cell_type": "markdown",
   "metadata": {
    "application/vnd.databricks.v1+cell": {
     "cellMetadata": {},
     "inputWidgets": {},
     "nuid": "05f6c917-1fb5-4146-9700-24c723446fa9",
     "showTitle": false,
     "tableResultSettingsMap": {},
     "title": ""
    }
   },
   "source": [
    "Random Forest:\n",
    "\n",
    "Its robustness against overfitting due to the ensemble of decision trees and its effectiveness in capturing non-linear relationships between features.\n",
    "Suitability: Random Forest is well-suited for this dataset if it includes high dimensional spaces and complex structures, which benefit from the model's capability to explore various decision paths."
   ]
  },
  {
   "cell_type": "code",
   "execution_count": 0,
   "metadata": {
    "application/vnd.databricks.v1+cell": {
     "cellMetadata": {
      "byteLimit": 2048000,
      "rowLimit": 10000
     },
     "inputWidgets": {},
     "nuid": "e07a68f4-a95c-4b91-8752-de0de6236870",
     "showTitle": false,
     "tableResultSettingsMap": {},
     "title": ""
    }
   },
   "outputs": [
    {
     "output_type": "stream",
     "name": "stdout",
     "output_type": "stream",
     "text": [
      "Random Forest - Root Mean Squared Error (RMSE): 2.3135635277774593\nRandom Forest - Mean Absolute Error (MAE): 1.1229260646356582\nRandom Forest - R² Score: 0.39361199033122507\n"
     ]
    }
   ],
   "source": [
    "from pyspark.ml.regression import RandomForestRegressor\n",
    "from pyspark.ml.evaluation import RegressionEvaluator\n",
    "from pyspark.ml.feature import VectorAssembler\n",
    "from pyspark.sql import SparkSession\n",
    "\n",
    "# Assuming you have a Spark session initialized as 'spark'\n",
    "# and 'filtered_data' is your PySpark DataFrame with appropriate feature and target columns\n",
    "\n",
    "# Define the assembler to transform feature columns into a single vector column\n",
    "assembler = VectorAssembler(inputCols=[col for col in filtered_data.columns if col != 'LOS'], outputCol=\"features\")\n",
    "data = assembler.transform(filtered_data)\n",
    "\n",
    "# Split the data into training and testing sets\n",
    "train_data, test_data = data.randomSplit([0.8, 0.2], seed=42)\n",
    "\n",
    "# Initialize the RandomForestRegressor\n",
    "rf = RandomForestRegressor(featuresCol=\"features\", labelCol=\"LOS\",\n",
    "                           numTrees=100, maxDepth=10, seed=42)\n",
    "\n",
    "# Train the model\n",
    "model = rf.fit(train_data)\n",
    "\n",
    "# Make predictions\n",
    "predictions = model.transform(test_data)\n",
    "\n",
    "# Evaluate the model\n",
    "evaluator = RegressionEvaluator(labelCol=\"LOS\", predictionCol=\"prediction\", metricName=\"rmse\")\n",
    "rmse = evaluator.evaluate(predictions, {evaluator.metricName: \"rmse\"})\n",
    "mae = evaluator.evaluate(predictions, {evaluator.metricName: \"mae\"})\n",
    "r2 = evaluator.evaluate(predictions, {evaluator.metricName: \"r2\"})\n",
    "\n",
    "# Print performance metrics\n",
    "print(f\"Random Forest - Root Mean Squared Error (RMSE): {rmse}\")\n",
    "print(f\"Random Forest - Mean Absolute Error (MAE): {mae}\")\n",
    "print(f\"Random Forest - R² Score: {r2}\")\n"
   ]
  },
  {
   "cell_type": "markdown",
   "metadata": {
    "application/vnd.databricks.v1+cell": {
     "cellMetadata": {},
     "inputWidgets": {},
     "nuid": "7e8681ac-8681-4255-b2d4-6c626796fa4c",
     "showTitle": false,
     "tableResultSettingsMap": {},
     "title": ""
    }
   },
   "source": [
    "### Linear Regression"
   ]
  },
  {
   "cell_type": "markdown",
   "metadata": {
    "application/vnd.databricks.v1+cell": {
     "cellMetadata": {},
     "inputWidgets": {},
     "nuid": "222748e6-e741-42a2-8365-6b6271ca4a57",
     "showTitle": false,
     "tableResultSettingsMap": {},
     "title": ""
    }
   },
   "source": [
    "Linear Regression:\n",
    "\n",
    "Its simplicity and interpretability. It is a good baseline model to assess whether more complex models are warranted.\n",
    "Suitability: Best suited for datasets where the relationship between the input variables and the target variable is expected to be linear. It's also computationally less intensive, making it a practical first choice for initial analysis."
   ]
  },
  {
   "cell_type": "code",
   "execution_count": 0,
   "metadata": {
    "application/vnd.databricks.v1+cell": {
     "cellMetadata": {
      "byteLimit": 2048000,
      "rowLimit": 10000
     },
     "inputWidgets": {},
     "nuid": "a096f0d7-39d4-4845-8dcc-c468b3a591f0",
     "showTitle": false,
     "tableResultSettingsMap": {},
     "title": ""
    }
   },
   "outputs": [
    {
     "output_type": "stream",
     "name": "stdout",
     "output_type": "stream",
     "text": [
      "Linear Regression - Root Mean Squared Error (RMSE): 1.7849470000120107\nLinear Regression - Mean Absolute Error (MAE): 1.1080050906467243\nLinear Regression - R² Score: 0.6390571881589753\n"
     ]
    }
   ],
   "source": [
    "from pyspark.ml.regression import LinearRegression\n",
    "from pyspark.ml.feature import VectorAssembler\n",
    "from pyspark.ml.evaluation import RegressionEvaluator\n",
    "from pyspark.sql import SparkSession\n",
    "\n",
    "# Assuming you have a Spark session initialized as 'spark'\n",
    "# and 'filtered_data' is your PySpark DataFrame with appropriate feature and target columns\n",
    "\n",
    "# Define the assembler to transform feature columns into a single vector column\n",
    "assembler = VectorAssembler(inputCols=[col for col in filtered_data.columns if col != 'LOS'], outputCol=\"features\")\n",
    "data = assembler.transform(filtered_data)\n",
    "\n",
    "# Split the data into training and testing sets\n",
    "train_data, test_data = data.randomSplit([0.8, 0.2], seed=42)\n",
    "\n",
    "# Initialize the Linear Regression model\n",
    "lr = LinearRegression(featuresCol=\"features\", labelCol=\"LOS\", maxIter=10, regParam=0.3, elasticNetParam=0.8)\n",
    "\n",
    "# Train the model\n",
    "model = lr.fit(train_data)\n",
    "\n",
    "# Make predictions\n",
    "predictions = model.transform(test_data)\n",
    "\n",
    "# Evaluate the model\n",
    "evaluator = RegressionEvaluator(labelCol=\"LOS\", predictionCol=\"prediction\", metricName=\"rmse\")\n",
    "rmse = evaluator.evaluate(predictions)\n",
    "mae = evaluator.evaluate(predictions, {evaluator.metricName: \"mae\"})\n",
    "r2 = evaluator.evaluate(predictions, {evaluator.metricName: \"r2\"})\n",
    "\n",
    "# Print performance metrics\n",
    "print(f\"Linear Regression - Root Mean Squared Error (RMSE): {rmse}\")\n",
    "print(f\"Linear Regression - Mean Absolute Error (MAE): {mae}\")\n",
    "print(f\"Linear Regression - R² Score: {r2}\")\n"
   ]
  },
  {
   "cell_type": "markdown",
   "metadata": {
    "application/vnd.databricks.v1+cell": {
     "cellMetadata": {},
     "inputWidgets": {},
     "nuid": "960b41c1-5eb6-4da6-a0d0-01f55fbd8b44",
     "showTitle": false,
     "tableResultSettingsMap": {},
     "title": ""
    }
   },
   "source": [
    "So Linear Regression model is giving higher accuracy, But XGBoost intricate patterns in the data without overfitting"
   ]
  },
  {
   "cell_type": "markdown",
   "metadata": {
    "application/vnd.databricks.v1+cell": {
     "cellMetadata": {},
     "inputWidgets": {},
     "nuid": "750f4fce-6fae-45c6-bfe5-9b215fb65fdc",
     "showTitle": false,
     "tableResultSettingsMap": {},
     "title": ""
    }
   },
   "source": [
    "### Hyperparameter tuning pipeline with Spark ML"
   ]
  },
  {
   "cell_type": "code",
   "execution_count": 0,
   "metadata": {
    "application/vnd.databricks.v1+cell": {
     "cellMetadata": {
      "byteLimit": 2048000,
      "rowLimit": 10000
     },
     "inputWidgets": {},
     "nuid": "987639ee-4eae-40b4-80f3-cfbe2ab09bbf",
     "showTitle": false,
     "tableResultSettingsMap": {},
     "title": ""
    }
   },
   "outputs": [
    {
     "output_type": "display_data",
     "data": {
      "text/plain": [
       "com.databricks.backend.common.rpc.CommandCancelledException\n",
       "\tat com.databricks.spark.chauffeur.SequenceExecutionState.$anonfun$cancel$5(SequenceExecutionState.scala:136)\n",
       "\tat scala.Option.getOrElse(Option.scala:189)\n",
       "\tat com.databricks.spark.chauffeur.SequenceExecutionState.$anonfun$cancel$3(SequenceExecutionState.scala:136)\n",
       "\tat com.databricks.spark.chauffeur.SequenceExecutionState.$anonfun$cancel$3$adapted(SequenceExecutionState.scala:133)\n",
       "\tat scala.collection.immutable.Range.foreach(Range.scala:158)\n",
       "\tat com.databricks.spark.chauffeur.SequenceExecutionState.cancel(SequenceExecutionState.scala:133)\n",
       "\tat com.databricks.spark.chauffeur.ExecContextState.cancelRunningSequence(ExecContextState.scala:728)\n",
       "\tat com.databricks.spark.chauffeur.ExecContextState.$anonfun$cancel$1(ExecContextState.scala:446)\n",
       "\tat scala.Option.getOrElse(Option.scala:189)\n",
       "\tat com.databricks.spark.chauffeur.ExecContextState.cancel(ExecContextState.scala:446)\n",
       "\tat com.databricks.spark.chauffeur.ExecutionContextManagerV1.cancelExecution(ExecutionContextManagerV1.scala:460)\n",
       "\tat com.databricks.spark.chauffeur.ChauffeurState.$anonfun$process$1(ChauffeurState.scala:577)\n",
       "\tat com.databricks.logging.UsageLogging.$anonfun$recordOperation$1(UsageLogging.scala:527)\n",
       "\tat com.databricks.logging.UsageLogging.executeThunkAndCaptureResultTags$1(UsageLogging.scala:631)\n",
       "\tat com.databricks.logging.UsageLogging.$anonfun$recordOperationWithResultTags$4(UsageLogging.scala:651)\n",
       "\tat com.databricks.logging.AttributionContextTracing.$anonfun$withAttributionContext$1(AttributionContextTracing.scala:48)\n",
       "\tat com.databricks.logging.AttributionContext$.$anonfun$withValue$1(AttributionContext.scala:276)\n",
       "\tat scala.util.DynamicVariable.withValue(DynamicVariable.scala:62)\n",
       "\tat com.databricks.logging.AttributionContext$.withValue(AttributionContext.scala:272)\n",
       "\tat com.databricks.logging.AttributionContextTracing.withAttributionContext(AttributionContextTracing.scala:46)\n",
       "\tat com.databricks.logging.AttributionContextTracing.withAttributionContext$(AttributionContextTracing.scala:43)\n",
       "\tat com.databricks.spark.chauffeur.ChauffeurState.withAttributionContext(ChauffeurState.scala:57)\n",
       "\tat com.databricks.logging.AttributionContextTracing.withAttributionTags(AttributionContextTracing.scala:95)\n",
       "\tat com.databricks.logging.AttributionContextTracing.withAttributionTags$(AttributionContextTracing.scala:76)\n",
       "\tat com.databricks.spark.chauffeur.ChauffeurState.withAttributionTags(ChauffeurState.scala:57)\n",
       "\tat com.databricks.logging.UsageLogging.recordOperationWithResultTags(UsageLogging.scala:626)\n",
       "\tat com.databricks.logging.UsageLogging.recordOperationWithResultTags$(UsageLogging.scala:536)\n",
       "\tat com.databricks.spark.chauffeur.ChauffeurState.recordOperationWithResultTags(ChauffeurState.scala:57)\n",
       "\tat com.databricks.logging.UsageLogging.recordOperation(UsageLogging.scala:528)\n",
       "\tat com.databricks.logging.UsageLogging.recordOperation$(UsageLogging.scala:496)\n",
       "\tat com.databricks.spark.chauffeur.ChauffeurState.recordOperation(ChauffeurState.scala:57)\n",
       "\tat com.databricks.spark.chauffeur.ChauffeurState.process(ChauffeurState.scala:559)\n",
       "\tat com.databricks.spark.chauffeur.Chauffeur$$anon$1$$anonfun$receive$1.handleDriverRequest$1(Chauffeur.scala:820)\n",
       "\tat com.databricks.spark.chauffeur.Chauffeur$$anon$1$$anonfun$receive$1.handleDriverRequestWithUsageLogging$1(Chauffeur.scala:836)\n",
       "\tat com.databricks.spark.chauffeur.Chauffeur$$anon$1$$anonfun$receive$1.applyOrElse(Chauffeur.scala:900)\n",
       "\tat com.databricks.spark.chauffeur.Chauffeur$$anon$1$$anonfun$receive$1.applyOrElse(Chauffeur.scala:693)\n",
       "\tat com.databricks.rpc.ServerBackend.$anonfun$internalReceive0$2(ServerBackend.scala:174)\n",
       "\tat com.databricks.rpc.ServerBackend$$anonfun$commonReceive$1.applyOrElse(ServerBackend.scala:200)\n",
       "\tat com.databricks.rpc.ServerBackend$$anonfun$commonReceive$1.applyOrElse(ServerBackend.scala:200)\n",
       "\tat com.databricks.rpc.ServerBackend.internalReceive0(ServerBackend.scala:171)\n",
       "\tat com.databricks.rpc.ServerBackend.$anonfun$internalReceive$1(ServerBackend.scala:147)\n",
       "\tat com.databricks.logging.UsageLogging.$anonfun$recordOperation$1(UsageLogging.scala:527)\n",
       "\tat com.databricks.logging.UsageLogging.executeThunkAndCaptureResultTags$1(UsageLogging.scala:631)\n",
       "\tat com.databricks.logging.UsageLogging.$anonfun$recordOperationWithResultTags$4(UsageLogging.scala:651)\n",
       "\tat com.databricks.logging.AttributionContextTracing.$anonfun$withAttributionContext$1(AttributionContextTracing.scala:48)\n",
       "\tat com.databricks.logging.AttributionContext$.$anonfun$withValue$1(AttributionContext.scala:276)\n",
       "\tat scala.util.DynamicVariable.withValue(DynamicVariable.scala:62)\n",
       "\tat com.databricks.logging.AttributionContext$.withValue(AttributionContext.scala:272)\n",
       "\tat com.databricks.logging.AttributionContextTracing.withAttributionContext(AttributionContextTracing.scala:46)\n",
       "\tat com.databricks.logging.AttributionContextTracing.withAttributionContext$(AttributionContextTracing.scala:43)\n",
       "\tat com.databricks.rpc.ServerBackend.withAttributionContext(ServerBackend.scala:22)\n",
       "\tat com.databricks.logging.AttributionContextTracing.withAttributionTags(AttributionContextTracing.scala:95)\n",
       "\tat com.databricks.logging.AttributionContextTracing.withAttributionTags$(AttributionContextTracing.scala:76)\n",
       "\tat com.databricks.rpc.ServerBackend.withAttributionTags(ServerBackend.scala:22)\n",
       "\tat com.databricks.logging.UsageLogging.recordOperationWithResultTags(UsageLogging.scala:626)\n",
       "\tat com.databricks.logging.UsageLogging.recordOperationWithResultTags$(UsageLogging.scala:536)\n",
       "\tat com.databricks.rpc.ServerBackend.recordOperationWithResultTags(ServerBackend.scala:22)\n",
       "\tat com.databricks.logging.UsageLogging.recordOperation(UsageLogging.scala:528)\n",
       "\tat com.databricks.logging.UsageLogging.recordOperation$(UsageLogging.scala:496)\n",
       "\tat com.databricks.rpc.ServerBackend.recordOperation(ServerBackend.scala:22)\n",
       "\tat com.databricks.rpc.ServerBackend.internalReceive(ServerBackend.scala:146)\n",
       "\tat com.databricks.rpc.JettyServer$RequestManager.handleRPC(JettyServer.scala:1021)\n",
       "\tat com.databricks.rpc.JettyServer$RequestManager.handleRequestAndRespond(JettyServer.scala:942)\n",
       "\tat com.databricks.rpc.JettyServer$RequestManager.$anonfun$handleHttp$6(JettyServer.scala:546)\n",
       "\tat com.databricks.rpc.JettyServer$RequestManager.$anonfun$handleHttp$6$adapted(JettyServer.scala:515)\n",
       "\tat com.databricks.logging.activity.ActivityContextFactory$.$anonfun$withActivityInternal$6(ActivityContextFactory.scala:545)\n",
       "\tat com.databricks.logging.AttributionContextTracing.$anonfun$withAttributionContext$1(AttributionContextTracing.scala:48)\n",
       "\tat com.databricks.logging.AttributionContext$.$anonfun$withValue$1(AttributionContext.scala:276)\n",
       "\tat scala.util.DynamicVariable.withValue(DynamicVariable.scala:62)\n",
       "\tat com.databricks.logging.AttributionContext$.withValue(AttributionContext.scala:272)\n",
       "\tat com.databricks.logging.AttributionContextTracing.withAttributionContext(AttributionContextTracing.scala:46)\n",
       "\tat com.databricks.logging.AttributionContextTracing.withAttributionContext$(AttributionContextTracing.scala:43)\n",
       "\tat com.databricks.logging.activity.ActivityContextFactory$.withAttributionContext(ActivityContextFactory.scala:48)\n",
       "\tat com.databricks.logging.activity.ActivityContextFactory$.$anonfun$withActivityInternal$3(ActivityContextFactory.scala:545)\n",
       "\tat com.databricks.context.integrity.IntegrityCheckContext$ThreadLocalStorage$.withValue(IntegrityCheckContext.scala:73)\n",
       "\tat com.databricks.logging.activity.ActivityContextFactory$.withActivityInternal(ActivityContextFactory.scala:523)\n",
       "\tat com.databricks.logging.activity.ActivityContextFactory$.withServiceRequestActivity(ActivityContextFactory.scala:175)\n",
       "\tat com.databricks.rpc.JettyServer$RequestManager.handleHttp(JettyServer.scala:515)\n",
       "\tat com.databricks.rpc.JettyServer$RequestManager.doPost(JettyServer.scala:405)\n",
       "\tat javax.servlet.http.HttpServlet.service(HttpServlet.java:665)\n",
       "\tat com.databricks.rpc.HttpServletWithPatch.service(HttpServletWithPatch.scala:33)\n",
       "\tat javax.servlet.http.HttpServlet.service(HttpServlet.java:750)\n",
       "\tat org.eclipse.jetty.servlet.ServletHolder.handle(ServletHolder.java:799)\n",
       "\tat org.eclipse.jetty.servlet.ServletHandler.doHandle(ServletHandler.java:554)\n",
       "\tat org.eclipse.jetty.server.handler.ScopedHandler.nextScope(ScopedHandler.java:190)\n",
       "\tat org.eclipse.jetty.servlet.ServletHandler.doScope(ServletHandler.java:505)\n",
       "\tat org.eclipse.jetty.server.handler.ScopedHandler.handle(ScopedHandler.java:141)\n",
       "\tat org.eclipse.jetty.server.handler.HandlerWrapper.handle(HandlerWrapper.java:127)\n",
       "\tat org.eclipse.jetty.server.Server.handle(Server.java:516)\n",
       "\tat org.eclipse.jetty.server.HttpChannel.lambda$handle$1(HttpChannel.java:487)\n",
       "\tat org.eclipse.jetty.server.HttpChannel.dispatch(HttpChannel.java:732)\n",
       "\tat org.eclipse.jetty.server.HttpChannel.handle(HttpChannel.java:479)\n",
       "\tat org.eclipse.jetty.server.HttpConnection.onFillable(HttpConnection.java:277)\n",
       "\tat org.eclipse.jetty.io.AbstractConnection$ReadCallback.succeeded(AbstractConnection.java:311)\n",
       "\tat org.eclipse.jetty.io.FillInterest.fillable(FillInterest.java:105)\n",
       "\tat org.eclipse.jetty.io.ssl.SslConnection$DecryptedEndPoint.onFillable(SslConnection.java:555)\n",
       "\tat org.eclipse.jetty.io.ssl.SslConnection.onFillable(SslConnection.java:410)\n",
       "\tat org.eclipse.jetty.io.ssl.SslConnection$2.succeeded(SslConnection.java:164)\n",
       "\tat org.eclipse.jetty.io.FillInterest.fillable(FillInterest.java:105)\n",
       "\tat org.eclipse.jetty.io.ChannelEndPoint$1.run(ChannelEndPoint.java:104)\n",
       "\tat org.eclipse.jetty.util.thread.strategy.EatWhatYouKill.runTask(EatWhatYouKill.java:338)\n",
       "\tat org.eclipse.jetty.util.thread.strategy.EatWhatYouKill.doProduce(EatWhatYouKill.java:315)\n",
       "\tat org.eclipse.jetty.util.thread.strategy.EatWhatYouKill.tryProduce(EatWhatYouKill.java:173)\n",
       "\tat org.eclipse.jetty.util.thread.strategy.EatWhatYouKill.run(EatWhatYouKill.java:131)\n",
       "\tat org.eclipse.jetty.util.thread.ReservedThreadExecutor$ReservedThread.run(ReservedThreadExecutor.java:409)\n",
       "\tat com.databricks.rpc.InstrumentedQueuedThreadPool$$anon$1.$anonfun$run$2(InstrumentedQueuedThreadPool.scala:105)\n",
       "\tat scala.runtime.java8.JFunction0$mcV$sp.apply(JFunction0$mcV$sp.java:23)\n",
       "\tat com.databricks.logging.AttributionContextTracing.$anonfun$withAttributionContext$1(AttributionContextTracing.scala:48)\n",
       "\tat com.databricks.logging.AttributionContext$.$anonfun$withValue$1(AttributionContext.scala:276)\n",
       "\tat scala.util.DynamicVariable.withValue(DynamicVariable.scala:62)\n",
       "\tat com.databricks.logging.AttributionContext$.withValue(AttributionContext.scala:272)\n",
       "\tat com.databricks.logging.AttributionContextTracing.withAttributionContext(AttributionContextTracing.scala:46)\n",
       "\tat com.databricks.logging.AttributionContextTracing.withAttributionContext$(AttributionContextTracing.scala:43)\n",
       "\tat com.databricks.rpc.InstrumentedQueuedThreadPool.withAttributionContext(InstrumentedQueuedThreadPool.scala:45)\n",
       "\tat com.databricks.rpc.InstrumentedQueuedThreadPool$$anon$1.$anonfun$run$1(InstrumentedQueuedThreadPool.scala:105)\n",
       "\tat scala.runtime.java8.JFunction0$mcV$sp.apply(JFunction0$mcV$sp.java:23)\n",
       "\tat com.databricks.instrumentation.QueuedThreadPoolInstrumenter.trackActiveThreads(QueuedThreadPoolInstrumenter.scala:110)\n",
       "\tat com.databricks.instrumentation.QueuedThreadPoolInstrumenter.trackActiveThreads$(QueuedThreadPoolInstrumenter.scala:107)\n",
       "\tat com.databricks.rpc.InstrumentedQueuedThreadPool.trackActiveThreads(InstrumentedQueuedThreadPool.scala:45)\n",
       "\tat com.databricks.rpc.InstrumentedQueuedThreadPool$$anon$1.run(InstrumentedQueuedThreadPool.scala:87)\n",
       "\tat org.eclipse.jetty.util.thread.QueuedThreadPool.runJob(QueuedThreadPool.java:883)\n",
       "\tat org.eclipse.jetty.util.thread.QueuedThreadPool$Runner.run(QueuedThreadPool.java:1034)\n",
       "\tat java.lang.Thread.run(Thread.java:750)"
      ]
     },
     "metadata": {
      "application/vnd.databricks.v1+output": {
       "addedWidgets": {},
       "arguments": {},
       "datasetInfos": [],
       "jupyterProps": null,
       "metadata": {
        "errorSummary": "Cancelled"
       },
       "removedWidgets": [],
       "sqlProps": null,
       "stackFrames": [
        "com.databricks.backend.common.rpc.CommandCancelledException",
        "\tat com.databricks.spark.chauffeur.SequenceExecutionState.$anonfun$cancel$5(SequenceExecutionState.scala:136)",
        "\tat scala.Option.getOrElse(Option.scala:189)",
        "\tat com.databricks.spark.chauffeur.SequenceExecutionState.$anonfun$cancel$3(SequenceExecutionState.scala:136)",
        "\tat com.databricks.spark.chauffeur.SequenceExecutionState.$anonfun$cancel$3$adapted(SequenceExecutionState.scala:133)",
        "\tat scala.collection.immutable.Range.foreach(Range.scala:158)",
        "\tat com.databricks.spark.chauffeur.SequenceExecutionState.cancel(SequenceExecutionState.scala:133)",
        "\tat com.databricks.spark.chauffeur.ExecContextState.cancelRunningSequence(ExecContextState.scala:728)",
        "\tat com.databricks.spark.chauffeur.ExecContextState.$anonfun$cancel$1(ExecContextState.scala:446)",
        "\tat scala.Option.getOrElse(Option.scala:189)",
        "\tat com.databricks.spark.chauffeur.ExecContextState.cancel(ExecContextState.scala:446)",
        "\tat com.databricks.spark.chauffeur.ExecutionContextManagerV1.cancelExecution(ExecutionContextManagerV1.scala:460)",
        "\tat com.databricks.spark.chauffeur.ChauffeurState.$anonfun$process$1(ChauffeurState.scala:577)",
        "\tat com.databricks.logging.UsageLogging.$anonfun$recordOperation$1(UsageLogging.scala:527)",
        "\tat com.databricks.logging.UsageLogging.executeThunkAndCaptureResultTags$1(UsageLogging.scala:631)",
        "\tat com.databricks.logging.UsageLogging.$anonfun$recordOperationWithResultTags$4(UsageLogging.scala:651)",
        "\tat com.databricks.logging.AttributionContextTracing.$anonfun$withAttributionContext$1(AttributionContextTracing.scala:48)",
        "\tat com.databricks.logging.AttributionContext$.$anonfun$withValue$1(AttributionContext.scala:276)",
        "\tat scala.util.DynamicVariable.withValue(DynamicVariable.scala:62)",
        "\tat com.databricks.logging.AttributionContext$.withValue(AttributionContext.scala:272)",
        "\tat com.databricks.logging.AttributionContextTracing.withAttributionContext(AttributionContextTracing.scala:46)",
        "\tat com.databricks.logging.AttributionContextTracing.withAttributionContext$(AttributionContextTracing.scala:43)",
        "\tat com.databricks.spark.chauffeur.ChauffeurState.withAttributionContext(ChauffeurState.scala:57)",
        "\tat com.databricks.logging.AttributionContextTracing.withAttributionTags(AttributionContextTracing.scala:95)",
        "\tat com.databricks.logging.AttributionContextTracing.withAttributionTags$(AttributionContextTracing.scala:76)",
        "\tat com.databricks.spark.chauffeur.ChauffeurState.withAttributionTags(ChauffeurState.scala:57)",
        "\tat com.databricks.logging.UsageLogging.recordOperationWithResultTags(UsageLogging.scala:626)",
        "\tat com.databricks.logging.UsageLogging.recordOperationWithResultTags$(UsageLogging.scala:536)",
        "\tat com.databricks.spark.chauffeur.ChauffeurState.recordOperationWithResultTags(ChauffeurState.scala:57)",
        "\tat com.databricks.logging.UsageLogging.recordOperation(UsageLogging.scala:528)",
        "\tat com.databricks.logging.UsageLogging.recordOperation$(UsageLogging.scala:496)",
        "\tat com.databricks.spark.chauffeur.ChauffeurState.recordOperation(ChauffeurState.scala:57)",
        "\tat com.databricks.spark.chauffeur.ChauffeurState.process(ChauffeurState.scala:559)",
        "\tat com.databricks.spark.chauffeur.Chauffeur$$anon$1$$anonfun$receive$1.handleDriverRequest$1(Chauffeur.scala:820)",
        "\tat com.databricks.spark.chauffeur.Chauffeur$$anon$1$$anonfun$receive$1.handleDriverRequestWithUsageLogging$1(Chauffeur.scala:836)",
        "\tat com.databricks.spark.chauffeur.Chauffeur$$anon$1$$anonfun$receive$1.applyOrElse(Chauffeur.scala:900)",
        "\tat com.databricks.spark.chauffeur.Chauffeur$$anon$1$$anonfun$receive$1.applyOrElse(Chauffeur.scala:693)",
        "\tat com.databricks.rpc.ServerBackend.$anonfun$internalReceive0$2(ServerBackend.scala:174)",
        "\tat com.databricks.rpc.ServerBackend$$anonfun$commonReceive$1.applyOrElse(ServerBackend.scala:200)",
        "\tat com.databricks.rpc.ServerBackend$$anonfun$commonReceive$1.applyOrElse(ServerBackend.scala:200)",
        "\tat com.databricks.rpc.ServerBackend.internalReceive0(ServerBackend.scala:171)",
        "\tat com.databricks.rpc.ServerBackend.$anonfun$internalReceive$1(ServerBackend.scala:147)",
        "\tat com.databricks.logging.UsageLogging.$anonfun$recordOperation$1(UsageLogging.scala:527)",
        "\tat com.databricks.logging.UsageLogging.executeThunkAndCaptureResultTags$1(UsageLogging.scala:631)",
        "\tat com.databricks.logging.UsageLogging.$anonfun$recordOperationWithResultTags$4(UsageLogging.scala:651)",
        "\tat com.databricks.logging.AttributionContextTracing.$anonfun$withAttributionContext$1(AttributionContextTracing.scala:48)",
        "\tat com.databricks.logging.AttributionContext$.$anonfun$withValue$1(AttributionContext.scala:276)",
        "\tat scala.util.DynamicVariable.withValue(DynamicVariable.scala:62)",
        "\tat com.databricks.logging.AttributionContext$.withValue(AttributionContext.scala:272)",
        "\tat com.databricks.logging.AttributionContextTracing.withAttributionContext(AttributionContextTracing.scala:46)",
        "\tat com.databricks.logging.AttributionContextTracing.withAttributionContext$(AttributionContextTracing.scala:43)",
        "\tat com.databricks.rpc.ServerBackend.withAttributionContext(ServerBackend.scala:22)",
        "\tat com.databricks.logging.AttributionContextTracing.withAttributionTags(AttributionContextTracing.scala:95)",
        "\tat com.databricks.logging.AttributionContextTracing.withAttributionTags$(AttributionContextTracing.scala:76)",
        "\tat com.databricks.rpc.ServerBackend.withAttributionTags(ServerBackend.scala:22)",
        "\tat com.databricks.logging.UsageLogging.recordOperationWithResultTags(UsageLogging.scala:626)",
        "\tat com.databricks.logging.UsageLogging.recordOperationWithResultTags$(UsageLogging.scala:536)",
        "\tat com.databricks.rpc.ServerBackend.recordOperationWithResultTags(ServerBackend.scala:22)",
        "\tat com.databricks.logging.UsageLogging.recordOperation(UsageLogging.scala:528)",
        "\tat com.databricks.logging.UsageLogging.recordOperation$(UsageLogging.scala:496)",
        "\tat com.databricks.rpc.ServerBackend.recordOperation(ServerBackend.scala:22)",
        "\tat com.databricks.rpc.ServerBackend.internalReceive(ServerBackend.scala:146)",
        "\tat com.databricks.rpc.JettyServer$RequestManager.handleRPC(JettyServer.scala:1021)",
        "\tat com.databricks.rpc.JettyServer$RequestManager.handleRequestAndRespond(JettyServer.scala:942)",
        "\tat com.databricks.rpc.JettyServer$RequestManager.$anonfun$handleHttp$6(JettyServer.scala:546)",
        "\tat com.databricks.rpc.JettyServer$RequestManager.$anonfun$handleHttp$6$adapted(JettyServer.scala:515)",
        "\tat com.databricks.logging.activity.ActivityContextFactory$.$anonfun$withActivityInternal$6(ActivityContextFactory.scala:545)",
        "\tat com.databricks.logging.AttributionContextTracing.$anonfun$withAttributionContext$1(AttributionContextTracing.scala:48)",
        "\tat com.databricks.logging.AttributionContext$.$anonfun$withValue$1(AttributionContext.scala:276)",
        "\tat scala.util.DynamicVariable.withValue(DynamicVariable.scala:62)",
        "\tat com.databricks.logging.AttributionContext$.withValue(AttributionContext.scala:272)",
        "\tat com.databricks.logging.AttributionContextTracing.withAttributionContext(AttributionContextTracing.scala:46)",
        "\tat com.databricks.logging.AttributionContextTracing.withAttributionContext$(AttributionContextTracing.scala:43)",
        "\tat com.databricks.logging.activity.ActivityContextFactory$.withAttributionContext(ActivityContextFactory.scala:48)",
        "\tat com.databricks.logging.activity.ActivityContextFactory$.$anonfun$withActivityInternal$3(ActivityContextFactory.scala:545)",
        "\tat com.databricks.context.integrity.IntegrityCheckContext$ThreadLocalStorage$.withValue(IntegrityCheckContext.scala:73)",
        "\tat com.databricks.logging.activity.ActivityContextFactory$.withActivityInternal(ActivityContextFactory.scala:523)",
        "\tat com.databricks.logging.activity.ActivityContextFactory$.withServiceRequestActivity(ActivityContextFactory.scala:175)",
        "\tat com.databricks.rpc.JettyServer$RequestManager.handleHttp(JettyServer.scala:515)",
        "\tat com.databricks.rpc.JettyServer$RequestManager.doPost(JettyServer.scala:405)",
        "\tat javax.servlet.http.HttpServlet.service(HttpServlet.java:665)",
        "\tat com.databricks.rpc.HttpServletWithPatch.service(HttpServletWithPatch.scala:33)",
        "\tat javax.servlet.http.HttpServlet.service(HttpServlet.java:750)",
        "\tat org.eclipse.jetty.servlet.ServletHolder.handle(ServletHolder.java:799)",
        "\tat org.eclipse.jetty.servlet.ServletHandler.doHandle(ServletHandler.java:554)",
        "\tat org.eclipse.jetty.server.handler.ScopedHandler.nextScope(ScopedHandler.java:190)",
        "\tat org.eclipse.jetty.servlet.ServletHandler.doScope(ServletHandler.java:505)",
        "\tat org.eclipse.jetty.server.handler.ScopedHandler.handle(ScopedHandler.java:141)",
        "\tat org.eclipse.jetty.server.handler.HandlerWrapper.handle(HandlerWrapper.java:127)",
        "\tat org.eclipse.jetty.server.Server.handle(Server.java:516)",
        "\tat org.eclipse.jetty.server.HttpChannel.lambda$handle$1(HttpChannel.java:487)",
        "\tat org.eclipse.jetty.server.HttpChannel.dispatch(HttpChannel.java:732)",
        "\tat org.eclipse.jetty.server.HttpChannel.handle(HttpChannel.java:479)",
        "\tat org.eclipse.jetty.server.HttpConnection.onFillable(HttpConnection.java:277)",
        "\tat org.eclipse.jetty.io.AbstractConnection$ReadCallback.succeeded(AbstractConnection.java:311)",
        "\tat org.eclipse.jetty.io.FillInterest.fillable(FillInterest.java:105)",
        "\tat org.eclipse.jetty.io.ssl.SslConnection$DecryptedEndPoint.onFillable(SslConnection.java:555)",
        "\tat org.eclipse.jetty.io.ssl.SslConnection.onFillable(SslConnection.java:410)",
        "\tat org.eclipse.jetty.io.ssl.SslConnection$2.succeeded(SslConnection.java:164)",
        "\tat org.eclipse.jetty.io.FillInterest.fillable(FillInterest.java:105)",
        "\tat org.eclipse.jetty.io.ChannelEndPoint$1.run(ChannelEndPoint.java:104)",
        "\tat org.eclipse.jetty.util.thread.strategy.EatWhatYouKill.runTask(EatWhatYouKill.java:338)",
        "\tat org.eclipse.jetty.util.thread.strategy.EatWhatYouKill.doProduce(EatWhatYouKill.java:315)",
        "\tat org.eclipse.jetty.util.thread.strategy.EatWhatYouKill.tryProduce(EatWhatYouKill.java:173)",
        "\tat org.eclipse.jetty.util.thread.strategy.EatWhatYouKill.run(EatWhatYouKill.java:131)",
        "\tat org.eclipse.jetty.util.thread.ReservedThreadExecutor$ReservedThread.run(ReservedThreadExecutor.java:409)",
        "\tat com.databricks.rpc.InstrumentedQueuedThreadPool$$anon$1.$anonfun$run$2(InstrumentedQueuedThreadPool.scala:105)",
        "\tat scala.runtime.java8.JFunction0$mcV$sp.apply(JFunction0$mcV$sp.java:23)",
        "\tat com.databricks.logging.AttributionContextTracing.$anonfun$withAttributionContext$1(AttributionContextTracing.scala:48)",
        "\tat com.databricks.logging.AttributionContext$.$anonfun$withValue$1(AttributionContext.scala:276)",
        "\tat scala.util.DynamicVariable.withValue(DynamicVariable.scala:62)",
        "\tat com.databricks.logging.AttributionContext$.withValue(AttributionContext.scala:272)",
        "\tat com.databricks.logging.AttributionContextTracing.withAttributionContext(AttributionContextTracing.scala:46)",
        "\tat com.databricks.logging.AttributionContextTracing.withAttributionContext$(AttributionContextTracing.scala:43)",
        "\tat com.databricks.rpc.InstrumentedQueuedThreadPool.withAttributionContext(InstrumentedQueuedThreadPool.scala:45)",
        "\tat com.databricks.rpc.InstrumentedQueuedThreadPool$$anon$1.$anonfun$run$1(InstrumentedQueuedThreadPool.scala:105)",
        "\tat scala.runtime.java8.JFunction0$mcV$sp.apply(JFunction0$mcV$sp.java:23)",
        "\tat com.databricks.instrumentation.QueuedThreadPoolInstrumenter.trackActiveThreads(QueuedThreadPoolInstrumenter.scala:110)",
        "\tat com.databricks.instrumentation.QueuedThreadPoolInstrumenter.trackActiveThreads$(QueuedThreadPoolInstrumenter.scala:107)",
        "\tat com.databricks.rpc.InstrumentedQueuedThreadPool.trackActiveThreads(InstrumentedQueuedThreadPool.scala:45)",
        "\tat com.databricks.rpc.InstrumentedQueuedThreadPool$$anon$1.run(InstrumentedQueuedThreadPool.scala:87)",
        "\tat org.eclipse.jetty.util.thread.QueuedThreadPool.runJob(QueuedThreadPool.java:883)",
        "\tat org.eclipse.jetty.util.thread.QueuedThreadPool$Runner.run(QueuedThreadPool.java:1034)",
        "\tat java.lang.Thread.run(Thread.java:750)"
       ],
       "type": "baseError"
      }
     },
     "output_type": "display_data"
    }
   ],
   "source": [
    "from pyspark.ml import Pipeline\n",
    "from pyspark.ml.regression import GBTRegressor\n",
    "from pyspark.ml.feature import VectorAssembler\n",
    "from pyspark.ml.evaluation import RegressionEvaluator\n",
    "from pyspark.ml.tuning import CrossValidator, ParamGridBuilder\n",
    "\n",
    "# Assuming 'filtered_data' is your initial Spark DataFrame\n",
    "# First, check if 'features' column exists and recreate the DataFrame without it\n",
    "if 'features' in filtered_data.columns:\n",
    "    filtered_data = filtered_data.drop('features')\n",
    "\n",
    "# Define the assembler to combine feature columns into a single vector column\n",
    "assembler = VectorAssembler(inputCols=[col for col in filtered_data.columns if col != 'LOS'], outputCol=\"features\")\n",
    "\n",
    "# Initialize the GBTRegressor\n",
    "gbt = GBTRegressor(featuresCol=\"features\", labelCol=\"LOS\", seed=42)\n",
    "\n",
    "# Setup the Pipeline which includes both stages: VectorAssembler and GBTRegressor\n",
    "pipeline = Pipeline(stages=[assembler, gbt])\n",
    "\n",
    "# Split the data into a part for model tuning and testing if you haven't already\n",
    "train_data, test_data = filtered_data.randomSplit([0.8, 0.2], seed=42)\n",
    "\n",
    "# Define a simpler grid of hyperparameters to test:\n",
    "paramGrid = ParamGridBuilder() \\\n",
    "    .addGrid(gbt.maxDepth, [5]) \\\n",
    "    .addGrid(gbt.maxIter, [20]) \\\n",
    "    .build()\n",
    "\n",
    "# Define the evaluator\n",
    "evaluator = RegressionEvaluator(labelCol=\"LOS\", predictionCol=\"prediction\", metricName=\"rmse\")\n",
    "\n",
    "# Setup the CrossValidator with fewer folds\n",
    "crossval = CrossValidator(estimator=pipeline,\n",
    "                          estimatorParamMaps=paramGrid,\n",
    "                          evaluator=evaluator,\n",
    "                          numFolds=2)  # Reduced from 3 to 2 folds\n",
    "\n",
    "# Run cross-validation, and choose the best set of parameters.\n",
    "cvModel = crossval.fit(train_data)  # Only fit on the training data\n",
    "\n",
    "# Fetch best model and use it to make predictions on test data\n",
    "bestModel = cvModel.bestModel\n",
    "predictions = bestModel.transform(test_data)\n",
    "\n",
    "# Evaluate the best model\n",
    "rmse = evaluator.evaluate(predictions)\n",
    "print(f\"Root Mean Squared Error (RMSE) on test data = {rmse}\")\n",
    "\n",
    "# To get the best model parameters:\n",
    "bestGBTModel = bestModel.stages[-1]\n",
    "print(f\"Best Params:\\n\\tmaxDepth: {bestGBTModel.getMaxDepth()}\\n\\tmaxIter: {bestGBTModel.getMaxIter()}\")\n"
   ]
  },
  {
   "cell_type": "markdown",
   "metadata": {
    "application/vnd.databricks.v1+cell": {
     "cellMetadata": {},
     "inputWidgets": {},
     "nuid": "5875a407-ff79-4bc5-b818-bd47917833ca",
     "showTitle": false,
     "tableResultSettingsMap": {},
     "title": ""
    }
   },
   "source": [
    "# 3. Model Evaluation and Comparison"
   ]
  },
  {
   "cell_type": "markdown",
   "metadata": {
    "application/vnd.databricks.v1+cell": {
     "cellMetadata": {},
     "inputWidgets": {},
     "nuid": "d6d129ce-808e-4817-a299-b828a81fd114",
     "showTitle": false,
     "tableResultSettingsMap": {},
     "title": ""
    }
   },
   "source": [
    "***Performance Metrics***\n",
    "\n",
    "Mean Absolute Error (MAE): Measures the average magnitude of the errors in predictions, providing a straightforward interpretation in the same units as the target.\n",
    "\n",
    "Mean Squared Error (MSE): Heavily penalizes larger errors, which can be crucial if large errors are particularly undesirable in the business context.\n",
    "\n",
    "R² Score: Indicates the proportion of variance in the dependent variable that is predictable from the independent variables."
   ]
  },
  {
   "cell_type": "markdown",
   "metadata": {
    "application/vnd.databricks.v1+cell": {
     "cellMetadata": {},
     "inputWidgets": {},
     "nuid": "d9e69fcb-9a44-4a8b-8f8f-aeaf218c1d11",
     "showTitle": false,
     "tableResultSettingsMap": {},
     "title": ""
    }
   },
   "source": [
    "***Comparison***\n",
    "\n",
    "XGBoost showed a good balance of error metrics and R², suggesting it managed to capture both the average trend and the variability in the data well.\n",
    "\n",
    "Random Forest exhibited higher errors and a substantially lower R², indicating it may be overfitting or not well-tuned for this specific dataset.\n",
    "\n",
    "Linear Regression had a decent R² close to that of XGBoost but with higher error metrics, suggesting it captured the overall trend well but lacked in precision.\n",
    "\n",
    "Best Performing Model: XGBoost. Given its balanced performance in all key metrics, it likely offers the best model complexity necessary to capture the intricate patterns in the data without overfitting, unlike Random Forest."
   ]
  },
  {
   "cell_type": "markdown",
   "metadata": {
    "application/vnd.databricks.v1+cell": {
     "cellMetadata": {},
     "inputWidgets": {},
     "nuid": "d515c520-0d22-407e-a5f3-996bdd1dd26f",
     "showTitle": false,
     "tableResultSettingsMap": {},
     "title": ""
    }
   },
   "source": [
    "# 4. Analysis and Insights"
   ]
  },
  {
   "cell_type": "markdown",
   "metadata": {
    "application/vnd.databricks.v1+cell": {
     "cellMetadata": {},
     "inputWidgets": {},
     "nuid": "82471e1e-1540-4d2e-9982-a9dd6f2df2dd",
     "showTitle": false,
     "tableResultSettingsMap": {},
     "title": ""
    }
   },
   "source": [
    "***Interpretation***\n",
    "\n",
    "The insights from the XGBoost model, with its lower MAE and MSE along with a solid R² score, suggest that it can effectively predict the target variable with a reasonable error rate.\n",
    "\n",
    "The inferior performance of Random Forest might be due to its tendency to overfit, especially with not enough tuning of parameters like max depth or min samples split, or perhaps the model complexity was too high for the data.\n",
    "\n"
   ]
  },
  {
   "cell_type": "markdown",
   "metadata": {
    "application/vnd.databricks.v1+cell": {
     "cellMetadata": {},
     "inputWidgets": {},
     "nuid": "b6fd6218-61f0-4c06-84bc-04fdcd7567e3",
     "showTitle": false,
     "tableResultSettingsMap": {},
     "title": ""
    }
   },
   "source": [
    "***Business Implications***\n",
    "\n",
    "This model can help you to predict the Length of Stay of patients who gets admitted. Baesd on this prediction the hospital can predict the hospital resouces accordingly which can benefit in managing cost and resources.\n",
    "\n",
    "XGBoost's performance suggests that it could be deployed for predictive tasks within the business, such as forecasting or risk assessment, where accuracy is critical.\n",
    "\n"
   ]
  },
  {
   "cell_type": "code",
   "execution_count": 0,
   "metadata": {
    "application/vnd.databricks.v1+cell": {
     "cellMetadata": {
      "byteLimit": 2048000,
      "rowLimit": 10000
     },
     "inputWidgets": {},
     "nuid": "8db25830-a178-4bf4-b442-8c138fb8fae3",
     "showTitle": false,
     "tableResultSettingsMap": {},
     "title": ""
    }
   },
   "outputs": [
    {
     "output_type": "display_data",
     "data": {
      "image/png": "[encoded data removed]",
      "text/plain": [
       "<Figure size 1000x600 with 1 Axes>"
      ]
     },
     "metadata": {},
     "output_type": "display_data"
    }
   ],
   "source": [
    "import matplotlib.pyplot as plt\n",
    "\n",
    "# Plotting actual vs. predicted values\n",
    "plt.figure(figsize=(10, 6))\n",
    "plt.scatter(y_test, y_pred, alpha=0.3)\n",
    "plt.plot([y.min(), y.max()], [y.min(), y.max()], 'k--', lw=4)\n",
    "plt.xlabel('Actual')\n",
    "plt.ylabel('Predicted')\n",
    "plt.title('Actual vs. Predicted')\n",
    "plt.show()\n"
   ]
  },
  {
   "cell_type": "markdown",
   "metadata": {
    "application/vnd.databricks.v1+cell": {
     "cellMetadata": {},
     "inputWidgets": {},
     "nuid": "8401994b-a127-4702-bd2c-9c91f15d4b36",
     "showTitle": false,
     "tableResultSettingsMap": {},
     "title": ""
    }
   },
   "source": [
    "***Graphical Analysis***\n",
    "\n",
    "Clustered Points: A closer look at the clustering of points can help identify patterns or biases in the model predictions. For instance, if higher values are consistently underpredicted or overpredicted, it might suggest a need for non-linear modeling or revisiting the feature engineering phase.\n",
    "\n",
    "Outliers: Points that are significantly off from the line could be outliers in the data or instances where the model fails to capture the underlying pattern."
   ]
  },
  {
   "cell_type": "markdown",
   "metadata": {
    "application/vnd.databricks.v1+cell": {
     "cellMetadata": {},
     "inputWidgets": {},
     "nuid": "2766aa13-5945-495c-a927-ccc0361a9c48",
     "showTitle": false,
     "tableResultSettingsMap": {},
     "title": ""
    }
   },
   "source": [
    "# 5. Demonstration of SparkML Knowledge"
   ]
  },
  {
   "cell_type": "markdown",
   "metadata": {
    "application/vnd.databricks.v1+cell": {
     "cellMetadata": {},
     "inputWidgets": {},
     "nuid": "8fc218c8-a11d-4b92-8fde-89e53b06ee60",
     "showTitle": false,
     "tableResultSettingsMap": {},
     "title": ""
    }
   },
   "source": [
    "### SparkML Utilization:"
   ]
  },
  {
   "cell_type": "markdown",
   "metadata": {
    "application/vnd.databricks.v1+cell": {
     "cellMetadata": {},
     "inputWidgets": {},
     "nuid": "2bf4671f-72ef-4264-a543-5c0fc8a87b72",
     "showTitle": false,
     "tableResultSettingsMap": {},
     "title": ""
    }
   },
   "source": [
    "\n",
    "Demonstrated the use of VectorAssembler for feature transformations suitable for ML algorithms in Spark.\n",
    "\n",
    "Employed RegressionEvaluator for comprehensive evaluation across multiple metrics crucial for regression analysis."
   ]
  },
  {
   "cell_type": "markdown",
   "metadata": {
    "application/vnd.databricks.v1+cell": {
     "cellMetadata": {},
     "inputWidgets": {},
     "nuid": "09f7c680-e9a9-4606-b1fd-5db5c703b035",
     "showTitle": false,
     "tableResultSettingsMap": {},
     "title": ""
    }
   },
   "source": [
    "### Advanced Features:"
   ]
  },
  {
   "cell_type": "markdown",
   "metadata": {
    "application/vnd.databricks.v1+cell": {
     "cellMetadata": {},
     "inputWidgets": {},
     "nuid": "24155cb7-8677-4e08-b813-c9a35748eedf",
     "showTitle": false,
     "tableResultSettingsMap": {},
     "title": ""
    }
   },
   "source": [
    "Could extend by implementing a Pipeline for streamlined processing and model evaluations.\n",
    "\n",
    "Utilization of ParamGridBuilder and CrossValidator for robust hyperparameter tuning to optimize model parameters further, enhancing model performance and ensuring robustness against overfitting."
   ]
  },
  {
   "cell_type": "markdown",
   "metadata": {
    "application/vnd.databricks.v1+cell": {
     "cellMetadata": {},
     "inputWidgets": {},
     "nuid": "35367b43-d7e2-46c3-9f93-16d55fdc886b",
     "showTitle": false,
     "tableResultSettingsMap": {},
     "title": ""
    }
   },
   "source": [
    "This detailed analysis and demonstration of SparkML not only show proficiency with the platform but also provide a deep understanding of how different models can be leveraged and optimized for specific types of data and business needs."
   ]
  },
  {
   "cell_type": "markdown",
   "metadata": {
    "application/vnd.databricks.v1+cell": {
     "cellMetadata": {},
     "inputWidgets": {},
     "nuid": "07151e71-3487-4f8a-b4b0-40ea9f4a3d6b",
     "showTitle": false,
     "tableResultSettingsMap": {},
     "title": ""
    }
   },
   "source": [
    "## Team Members and Contributions\n"
   ]
  },
  {
   "cell_type": "markdown",
   "metadata": {
    "application/vnd.databricks.v1+cell": {
     "cellMetadata": {},
     "inputWidgets": {},
     "nuid": "1425af5e-43e1-4e4c-a09a-27a3aecf7e49",
     "showTitle": false,
     "tableResultSettingsMap": {},
     "title": ""
    }
   },
   "source": [
    "\n",
    "*1. Manvith Katkuri*\n",
    "  - Led data preprocessing and feature engineering\n",
    "  - Implemented initial XGBoost model\n",
    "  - Conducted feature importance analysis\n",
    "  - Documentation and code review\n",
    "\n",
    "*2. Purna Chandra Shekar Reddy Gosala*\n",
    "  - Developed Spark ML pipeline implementation\n",
    "  - Implemented cross-validation framework\n",
    "  - Optimized model performance\n",
    "  - Integration testing\n",
    "\n",
    "*3. Shyam Rishi Sai Kalaparthy*\n",
    "  - Set up Databricks environment\n",
    "  - Handled data ingestion and cleaning\n",
    "  - Implemented data quality checks\n",
    "  - Performance optimization\n",
    "\n",
    "*4. Ranjith Babu Vennam*\n",
    "  - Project coordination and planning\n",
    "  - Business requirements gathering\n",
    "  - Results interpretation and presentation\n",
    "  - Final report compilation"
   ]
  },
  {
   "cell_type": "code",
   "execution_count": 0,
   "metadata": {
    "application/vnd.databricks.v1+cell": {
     "cellMetadata": {},
     "inputWidgets": {},
     "nuid": "bdb111b5-476f-4d95-9dfe-898f9d3420c5",
     "showTitle": false,
     "tableResultSettingsMap": {},
     "title": ""
    }
   },
   "outputs": [],
   "source": []
  }
 ],
 "metadata": {
  "application/vnd.databricks.v1+notebook": {
   "dashboards": [],
   "environmentMetadata": {
    "base_environment": "",
    "client": "1"
   },
   "language": "python",
   "notebookMetadata": {
    "mostRecentlyExecutedCommandWithImplicitDF": {
     "commandId": 4290209278586345,
     "dataframes": [
      "_sqldf"
     ]
    },
    "pythonIndentUnit": 4
   },
   "notebookName": "Assignment_Spark_final_project",
   "widgets": {}
  },
  "kernelspec": {
   "display_name": "Python 3 (ipykernel)",
   "language": "python",
   "name": "python3"
  },
  "language_info": {
   "codemirror_mode": {
    "name": "ipython",
    "version": 3
   },
   "file_extension": ".py",
   "mimetype": "text/x-python",
   "name": "python",
   "nbconvert_exporter": "python",
   "pygments_lexer": "ipython3",
   "version": "3.12.4"
  }
 },
 "nbformat": 4,
 "nbformat_minor": 0
}
